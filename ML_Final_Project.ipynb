{
 "cells": [
  {
   "cell_type": "markdown",
   "metadata": {
    "colab_type": "text",
    "id": "KgTwaheiGlh4"
   },
   "source": [
    "# Machine Learning Project\n",
    "## Spring 2020\n",
    "#### 20110236 Ahmed Anwar\n",
    "#### 19030012 Mahrukh Zubair"
   ]
  },
  {
   "cell_type": "markdown",
   "metadata": {
    "colab_type": "text",
    "id": "Lvf6XKRyGliD"
   },
   "source": [
    "### 0. Load Dependencies"
   ]
  },
  {
   "cell_type": "code",
   "execution_count": 0,
   "metadata": {
    "colab": {},
    "colab_type": "code",
    "id": "yxL2WJ7TGliF"
   },
   "outputs": [],
   "source": [
    "import pandas as pd\n",
    "import numpy as np\n",
    "import matplotlib.pyplot as plt\n",
    "import re\n",
    "import string\n",
    "from gensim.models import KeyedVectors\n",
    "from tqdm.notebook import tqdm\n",
    "import time"
   ]
  },
  {
   "cell_type": "markdown",
   "metadata": {
    "colab_type": "text",
    "id": "4SBqIRmvGliL"
   },
   "source": [
    "## 1. Data Preprocessing"
   ]
  },
  {
   "cell_type": "markdown",
   "metadata": {
    "colab_type": "text",
    "id": "mwzqlhRkGliM"
   },
   "source": [
    "### 1.1 Parse Data"
   ]
  },
  {
   "cell_type": "code",
   "execution_count": 0,
   "metadata": {
    "colab": {},
    "colab_type": "code",
    "id": "xiYSikydGliN"
   },
   "outputs": [],
   "source": [
    "train_df = pd.read_csv('train.txt', sep=\",\", header=None, names=[\"isSarcasm\", \"headline\"])\n",
    "test_df  = pd.read_csv('test.txt' , sep=\",\", header=None, names=[\"isSarcasm\", \"headline\"])"
   ]
  },
  {
   "cell_type": "code",
   "execution_count": 0,
   "metadata": {
    "colab": {},
    "colab_type": "code",
    "id": "c0y7BEMrGliT"
   },
   "outputs": [],
   "source": [
    "stopwords = []\n",
    "file = open(\"stopwords.txt\", \"r\")\n",
    "for word in file:\n",
    "    stopwords.append(word.rstrip())"
   ]
  },
  {
   "cell_type": "markdown",
   "metadata": {
    "colab_type": "text",
    "id": "ZVmpMpWMGliX"
   },
   "source": [
    "### 1.2 Data Cleaning\n",
    "1. Convert all to lowercase\n",
    "2. Remove Punctuations\n",
    "3. Remove numbers from text\n",
    "4. Remove Stopwords"
   ]
  },
  {
   "cell_type": "code",
   "execution_count": 0,
   "metadata": {
    "colab": {},
    "colab_type": "code",
    "id": "7EkUE9dzGliY"
   },
   "outputs": [],
   "source": [
    "def clean(df):\n",
    "    df['headline'] = df['headline'].str.lower()\n",
    "    df['headline'] = pd.Series([x.translate(str.maketrans('', '', string.punctuation)) for x in df['headline']]) \n",
    "    df['headline'] = df['headline'].str.replace(r'[0-9]+', '')\n",
    "    df['headline'] = df['headline'].apply(lambda x: ' '.join([word for word in x.split() if word not in (stopwords)])) \n",
    "    return df"
   ]
  },
  {
   "cell_type": "code",
   "execution_count": 0,
   "metadata": {
    "colab": {},
    "colab_type": "code",
    "id": "BSeIfAAgGlic"
   },
   "outputs": [],
   "source": [
    "train_df_clean = clean(train_df)\n",
    "test_df_clean  = clean(test_df)"
   ]
  },
  {
   "cell_type": "code",
   "execution_count": 0,
   "metadata": {
    "colab": {},
    "colab_type": "code",
    "id": "Dr2Tjz4lGlig",
    "outputId": "99953336-e0d4-4a1f-d92a-5ec688672a77"
   },
   "outputs": [
    {
     "data": {
      "text/html": [
       "<div>\n",
       "<style scoped>\n",
       "    .dataframe tbody tr th:only-of-type {\n",
       "        vertical-align: middle;\n",
       "    }\n",
       "\n",
       "    .dataframe tbody tr th {\n",
       "        vertical-align: top;\n",
       "    }\n",
       "\n",
       "    .dataframe thead th {\n",
       "        text-align: right;\n",
       "    }\n",
       "</style>\n",
       "<table border=\"1\" class=\"dataframe\">\n",
       "  <thead>\n",
       "    <tr style=\"text-align: right;\">\n",
       "      <th></th>\n",
       "      <th>isSarcasm</th>\n",
       "      <th>headline</th>\n",
       "    </tr>\n",
       "  </thead>\n",
       "  <tbody>\n",
       "    <tr>\n",
       "      <th>0</th>\n",
       "      <td>1</td>\n",
       "      <td>paramount executive snaps script begins studio...</td>\n",
       "    </tr>\n",
       "    <tr>\n",
       "      <th>1</th>\n",
       "      <td>1</td>\n",
       "      <td>increasingly paranoid campbells begins stockpi...</td>\n",
       "    </tr>\n",
       "    <tr>\n",
       "      <th>2</th>\n",
       "      <td>1</td>\n",
       "      <td>monster truck escapes</td>\n",
       "    </tr>\n",
       "    <tr>\n",
       "      <th>3</th>\n",
       "      <td>0</td>\n",
       "      <td>sunday roundup</td>\n",
       "    </tr>\n",
       "    <tr>\n",
       "      <th>4</th>\n",
       "      <td>1</td>\n",
       "      <td>birthday card david axelrod circling around af...</td>\n",
       "    </tr>\n",
       "  </tbody>\n",
       "</table>\n",
       "</div>"
      ],
      "text/plain": [
       "   isSarcasm                                           headline\n",
       "0          1  paramount executive snaps script begins studio...\n",
       "1          1  increasingly paranoid campbells begins stockpi...\n",
       "2          1                              monster truck escapes\n",
       "3          0                                     sunday roundup\n",
       "4          1  birthday card david axelrod circling around af..."
      ]
     },
     "execution_count": 6,
     "metadata": {
      "tags": []
     },
     "output_type": "execute_result"
    }
   ],
   "source": [
    "train_df_clean.head()"
   ]
  },
  {
   "cell_type": "markdown",
   "metadata": {
    "colab_type": "text",
    "id": "UeZ5v7LSGlil"
   },
   "source": [
    "### 1.3 Load Pre-trained Word2Vec Model"
   ]
  },
  {
   "cell_type": "code",
   "execution_count": 0,
   "metadata": {
    "colab": {},
    "colab_type": "code",
    "id": "EQ9IkUhgGlim"
   },
   "outputs": [],
   "source": [
    "model = KeyedVectors.load_word2vec_format(\"GoogleNews-vectors-negative300.bin\", binary=True) "
   ]
  },
  {
   "cell_type": "code",
   "execution_count": 0,
   "metadata": {
    "colab": {},
    "colab_type": "code",
    "id": "DCr6Y3BpGlip"
   },
   "outputs": [],
   "source": [
    "model_vocab = list(model.vocab.keys())"
   ]
  },
  {
   "cell_type": "code",
   "execution_count": 0,
   "metadata": {
    "colab": {},
    "colab_type": "code",
    "id": "ltvzqOX2Glis",
    "outputId": "f7ec3221-e4c6-4412-9b83-d67f6a8c5e34"
   },
   "outputs": [
    {
     "name": "stdout",
     "output_type": "stream",
     "text": [
      "Vocabulary Length: 3000000\n"
     ]
    }
   ],
   "source": [
    "print('Vocabulary Length:',len(model_vocab))"
   ]
  },
  {
   "cell_type": "markdown",
   "metadata": {
    "colab_type": "text",
    "id": "_IJqwqmuGliw"
   },
   "source": [
    "### 1.4 Retrieve Features and Labels"
   ]
  },
  {
   "cell_type": "code",
   "execution_count": 0,
   "metadata": {
    "colab": {},
    "colab_type": "code",
    "id": "ZX7K7jocGlix"
   },
   "outputs": [],
   "source": [
    "def get_features_and_labels(df):\n",
    "    \n",
    "    n = len(df['headline'])\n",
    "    features = np.zeros(shape=(n,300,))\n",
    "    labels = np.array(df['isSarcasm']).reshape(n,1)\n",
    "    \n",
    "    for i in tqdm(range(n)):\n",
    "        headline = df['headline'][i]\n",
    "        words = headline.split()\n",
    "        counter = 0\n",
    "\n",
    "        for word in words: \n",
    "            try:\n",
    "                features[i,:] = features[i,:] + model[word]\n",
    "                counter+=1\n",
    "            except:\n",
    "                pass\n",
    "            \n",
    "        if counter != 0:\n",
    "            features[i,:]/=counter \n",
    "            \n",
    "    return features, labels"
   ]
  },
  {
   "cell_type": "code",
   "execution_count": 0,
   "metadata": {
    "colab": {
     "referenced_widgets": [
      "0c691a5eac5c40cca7b95c2747115843",
      "95b172326d2f41f0a7f373d4b37a732f"
     ]
    },
    "colab_type": "code",
    "id": "W9RhQOLZGli0",
    "outputId": "8b5efe06-0e93-42a8-b749-61ce828a9336"
   },
   "outputs": [
    {
     "data": {
      "application/vnd.jupyter.widget-view+json": {
       "model_id": "0c691a5eac5c40cca7b95c2747115843",
       "version_major": 2,
       "version_minor": 0
      },
      "text/plain": [
       "HBox(children=(FloatProgress(value=0.0, max=22047.0), HTML(value='')))"
      ]
     },
     "metadata": {
      "tags": []
     },
     "output_type": "display_data"
    },
    {
     "name": "stdout",
     "output_type": "stream",
     "text": [
      "\n"
     ]
    },
    {
     "data": {
      "application/vnd.jupyter.widget-view+json": {
       "model_id": "95b172326d2f41f0a7f373d4b37a732f",
       "version_major": 2,
       "version_minor": 0
      },
      "text/plain": [
       "HBox(children=(FloatProgress(value=0.0, max=5724.0), HTML(value='')))"
      ]
     },
     "metadata": {
      "tags": []
     },
     "output_type": "display_data"
    },
    {
     "name": "stdout",
     "output_type": "stream",
     "text": [
      "\n"
     ]
    }
   ],
   "source": [
    "X_train, y_train = get_features_and_labels(train_df_clean)\n",
    "X_test,  y_test  = get_features_and_labels(test_df_clean)"
   ]
  },
  {
   "cell_type": "code",
   "execution_count": 0,
   "metadata": {
    "colab": {},
    "colab_type": "code",
    "id": "ZTQlz2YnGli4",
    "outputId": "839a6be7-4e9b-4a2e-c432-6e3759bb5f65"
   },
   "outputs": [
    {
     "name": "stdout",
     "output_type": "stream",
     "text": [
      "Training examples : 22047\n",
      "Testing examples  : 5724\n"
     ]
    }
   ],
   "source": [
    "print('Training examples :', len(X_train))\n",
    "print('Testing examples  :', len(X_test))"
   ]
  },
  {
   "cell_type": "markdown",
   "metadata": {
    "colab_type": "text",
    "id": "A4g4KcafGli-"
   },
   "source": [
    "### 1.5 Save Features"
   ]
  },
  {
   "cell_type": "code",
   "execution_count": 0,
   "metadata": {
    "colab": {},
    "colab_type": "code",
    "id": "Btn2tZKIGljA"
   },
   "outputs": [],
   "source": [
    "np.save('X_train',X_train)\n",
    "np.save('X_test',X_test)\n",
    "\n",
    "np.save('y_train',y_train)\n",
    "np.save('y_test',y_test)"
   ]
  },
  {
   "cell_type": "code",
   "execution_count": 0,
   "metadata": {
    "colab": {},
    "colab_type": "code",
    "id": "W3nUMwRVGljE"
   },
   "outputs": [],
   "source": [
    "X_train = np.load('X_train.npy')\n",
    "X_test = np.load('X_test.npy')\n",
    "y_train = np.load('y_train.npy')\n",
    "y_test = np.load('y_test.npy')"
   ]
  },
  {
   "cell_type": "markdown",
   "metadata": {
    "colab_type": "text",
    "id": "r_q5-z90GljJ"
   },
   "source": [
    "### 1.6 Define Evaluation function"
   ]
  },
  {
   "cell_type": "code",
   "execution_count": 0,
   "metadata": {
    "colab": {},
    "colab_type": "code",
    "id": "wRCNt-T1GljL"
   },
   "outputs": [],
   "source": [
    "def model_evaluation(y_pred,y_true,model='normal'):\n",
    "    \n",
    "    if model == 'perceptron':\n",
    "        m = -1\n",
    "    else:\n",
    "        m = 0\n",
    "        \n",
    "    TP  = ((y_pred==1) & (y_true==1)).sum()\n",
    "    TN  = ((y_pred==m) & (y_true==m)).sum()    \n",
    "    FP  = ((y_pred==1) & (y_true==m)).sum()\n",
    "    FN  = ((y_pred==m) & (y_true==1)).sum()\n",
    "        \n",
    "    precision = TP / (TP+FP)\n",
    "    recall =    TP / (TP+FN)\n",
    "    F1 = (2*precision*recall) / (precision+recall)\n",
    "    Accuracy = (TP+TP) / (TP+TN+FP+FN)\n",
    "    \n",
    "    print('CLASSIFIER   |    GOLD LABELS   |')\n",
    "    print('OUTPUT       |    pos   |  neg  |')\n",
    "    print('         pos |  ',TP,'  | ',FP,'|')\n",
    "    print('         neg |  ',FN,'  | ',TN,'|')\n",
    "    print('------------------------------------\\n')\n",
    "    \n",
    "    print('Model Accuracy : ', round(Accuracy*100,3),'%')\n",
    "    print('Precision : ', round(precision,3))\n",
    "    print('Recall    : ', round(recall,3))\n",
    "    print('F1 score  : ', round(F1,3))\n",
    "    \n",
    "    return Accuracy"
   ]
  },
  {
   "cell_type": "markdown",
   "metadata": {
    "colab_type": "text",
    "id": "f-PJDBBgGljS"
   },
   "source": [
    "# 2. Logistic Regression"
   ]
  },
  {
   "cell_type": "code",
   "execution_count": 0,
   "metadata": {
    "colab": {},
    "colab_type": "code",
    "id": "K3gnMAHlGljV"
   },
   "outputs": [],
   "source": [
    "class Logistic_regression():   \n",
    "    @staticmethod\n",
    "    def sigmoid(x):\n",
    "        return 1 / (1 + np.exp(-x))\n",
    "    \n",
    "    @staticmethod\n",
    "    def cost_function(y_pred, y_true):\n",
    "        return -(y_true * np.log(y_pred)).mean()\n",
    "    \n",
    "    def __init__(self,epochs,batch_size,lr):\n",
    "        self.epochs = epochs\n",
    "        self.batch_size = batch_size\n",
    "        self.lr = lr\n",
    "\n",
    "    def initialize(self,X):\n",
    "        self.weights = np.random.normal(size = (X.shape[1],1))\n",
    "        self.bias = 0\n",
    "        \n",
    "    def predict(self,X):\n",
    "        z = np.dot(X, self.weights) + self.bias\n",
    "        a = self.sigmoid(z)\n",
    "        return  (1 * (a > 0.5))\n",
    "\n",
    "    def update_parameters(self,X,y):\n",
    "        z = np.dot(X, self.weights) + self.bias\n",
    "        y_pred = self.sigmoid(z)\n",
    "        cost = self.cost_function(y_pred, y)\n",
    "        \n",
    "        #gradient calculation\n",
    "        error = y_pred - y \n",
    "        d_w = np.dot(X.T, error) / self.batch_size\n",
    "        d_b = np.sum(error) / self.batch_size\n",
    "        \n",
    "        #update parameters\n",
    "        self.weights = self.weights - self.lr * d_w\n",
    "        self.bias = self.bias - self.lr * d_b  \n",
    "        return cost   \n",
    "     \n",
    "    def fit(self,X,y):\n",
    "        self.initialize(X)\n",
    "        cost_hist = []\n",
    "        \n",
    "        for i in tqdm(range(self.epochs)):              \n",
    "            indexes = np.arange(0,len(X),self.batch_size) #setting start index of each batch\n",
    "            if len(X) % self.batch_size != 0:\n",
    "                indexes = indexes[:-1]  #dropping last index if last batch does not complete the batch size requirement\n",
    "            np.random.shuffle(indexes) \n",
    "            \n",
    "            temp = []\n",
    "            for index in indexes:  \n",
    "                loss = self.update_parameters(X[index:index+self.batch_size], y[index:index+self.batch_size].reshape(self.batch_size,1)) \n",
    "                temp.append(loss)\n",
    "            cost_hist.append(np.mean(temp))\n",
    "        return cost_hist             "
   ]
  },
  {
   "cell_type": "code",
   "execution_count": 0,
   "metadata": {
    "colab": {
     "base_uri": "https://localhost:8080/",
     "height": 256,
     "referenced_widgets": [
      "82516b4c12564ae19f494bd74e01cc4e",
      "bee33c4f40024e5d8ce8f44daf52a4ab",
      "76abc7acb6ea445a8772833492becad1",
      "e14d2d3a946e4861bd1535aac8d40361",
      "a027708ad40e4db0b2a128153672c81f",
      "a3f3973a157d4d528d019fe5f2fbda5b",
      "2e36021e4ee54206bd6bed12abf538ed",
      "9f977595e04d44ae82fd48e25c68896f"
     ]
    },
    "colab_type": "code",
    "id": "hMfgqbPQGlje",
    "outputId": "b67b1740-35b8-446f-b852-8c7b1edccd9a"
   },
   "outputs": [
    {
     "data": {
      "application/vnd.jupyter.widget-view+json": {
       "model_id": "82516b4c12564ae19f494bd74e01cc4e",
       "version_major": 2,
       "version_minor": 0
      },
      "text/plain": [
       "HBox(children=(FloatProgress(value=0.0, max=1500.0), HTML(value='')))"
      ]
     },
     "metadata": {
      "tags": []
     },
     "output_type": "display_data"
    },
    {
     "name": "stdout",
     "output_type": "stream",
     "text": [
      "\n",
      "CLASSIFIER   |    GOLD LABELS   |\n",
      "OUTPUT       |    pos   |  neg  |\n",
      "         pos |   1877   |  678 |\n",
      "         neg |   850   |  2319 |\n",
      "------------------------------------\n",
      "\n",
      "Model Accuracy :  65.584 %\n",
      "Precision :  0.735\n",
      "Recall    :  0.688\n",
      "F1 score  :  0.711\n"
     ]
    },
    {
     "data": {
      "text/plain": [
       "0.6558350803633822"
      ]
     },
     "execution_count": 57,
     "metadata": {
      "tags": []
     },
     "output_type": "execute_result"
    }
   ],
   "source": [
    "lr = Logistic_regression(epochs=1500,batch_size=32,lr=0.01)\n",
    "hist = lr.fit(X_train,y_train)\n",
    "lr_pred = lr.predict(X_test)\n",
    "model_evaluation(lr_pred,y_test)"
   ]
  },
  {
   "cell_type": "code",
   "execution_count": 0,
   "metadata": {
    "colab": {},
    "colab_type": "code",
    "id": "BMX88e5oGljk",
    "outputId": "662c3efd-1a0e-4d92-e006-de0b8251d38e"
   },
   "outputs": [
    {
     "data": {
      "image/png": "[encoded data removed]",
      "text/plain": [
       "<Figure size 432x288 with 1 Axes>"
      ]
     },
     "metadata": {
      "needs_background": "light",
      "tags": []
     },
     "output_type": "display_data"
    }
   ],
   "source": [
    "plt.plot(hist)\n",
    "plt.title('Loss PLot')\n",
    "plt.xlabel('Epoch')\n",
    "plt.show()"
   ]
  },
  {
   "cell_type": "markdown",
   "metadata": {
    "colab_type": "text",
    "id": "5k9IhJtlGljq"
   },
   "source": [
    "# 3. K-nearest neighbor"
   ]
  },
  {
   "cell_type": "code",
   "execution_count": 0,
   "metadata": {
    "colab": {},
    "colab_type": "code",
    "id": "tDs0EGELGljr"
   },
   "outputs": [],
   "source": [
    "def euclidean_distance(a,b):\n",
    "    a = np.array(a,dtype= float)\n",
    "    b = np.array(b,dtype= float)\n",
    "    return np.sqrt(np.power(a-b,2).sum())"
   ]
  },
  {
   "cell_type": "code",
   "execution_count": 0,
   "metadata": {
    "colab": {},
    "colab_type": "code",
    "id": "-ZRFxrQIGljy"
   },
   "outputs": [],
   "source": [
    "def get_disMat(X_train,X_test):\n",
    "    rows = len(X_test)\n",
    "    cols = len(X_train)\n",
    "    disMat = np.zeros(shape=(rows,cols))\n",
    "\n",
    "    for row in tqdm(range(rows)):\n",
    "        for col in range(cols):\n",
    "            disMat[row][col] = euclidean_distance(X_test[row],X_train[col])\n",
    "    \n",
    "    return disMat"
   ]
  },
  {
   "cell_type": "code",
   "execution_count": 0,
   "metadata": {
    "colab": {},
    "colab_type": "code",
    "id": "N2gheamOGlj4"
   },
   "outputs": [],
   "source": [
    "def Knn(disMat,y_train,k):\n",
    "    \n",
    "    Predictions = []\n",
    "    y_train = pd.Series(y_train.reshape(len(y_train,))) #convert to pandas series\n",
    "    for dist in disMat:\n",
    "        indices = np.argpartition(-dist, -k)[-k:] #get indices of k nearest neighbors        \n",
    "        p = y_train[indices].value_counts().idxmax() #get label of winner class from majority voting \n",
    "        Predictions.append(p)\n",
    "    \n",
    "    return np.array(Predictions)"
   ]
  },
  {
   "cell_type": "code",
   "execution_count": 0,
   "metadata": {
    "colab": {},
    "colab_type": "code",
    "id": "nUyqDUVYGlkA"
   },
   "outputs": [],
   "source": [
    "disMat = get_disMat(X_train,X_test).reshape(5724,1)\n",
    "np.save('disMat',disMat)"
   ]
  },
  {
   "cell_type": "code",
   "execution_count": 0,
   "metadata": {
    "colab": {},
    "colab_type": "code",
    "id": "NZHwMNy4R2Sf"
   },
   "outputs": [],
   "source": [
    "disMat = np.load('disMat.npy')"
   ]
  },
  {
   "cell_type": "markdown",
   "metadata": {
    "colab_type": "text",
    "id": "vDKWUadKGlkH"
   },
   "source": [
    "#### K=1"
   ]
  },
  {
   "cell_type": "code",
   "execution_count": 0,
   "metadata": {
    "colab": {
     "base_uri": "https://localhost:8080/",
     "height": 190
    },
    "colab_type": "code",
    "id": "hSQrNb06GlkI",
    "outputId": "c97ac284-e515-47a3-e413-7e9ea49ed937"
   },
   "outputs": [
    {
     "name": "stdout",
     "output_type": "stream",
     "text": [
      "CLASSIFIER   |    GOLD LABELS   |\n",
      "OUTPUT       |    pos   |  neg  |\n",
      "         pos |   2092   |  1156 |\n",
      "         neg |   635   |  1841 |\n",
      "------------------------------------\n",
      "\n",
      "Model Accuracy :  73.096 %\n",
      "Precision :  0.644\n",
      "Recall    :  0.767\n",
      "F1 score  :  0.7\n"
     ]
    }
   ],
   "source": [
    "hist = []\n",
    "knn_pred = Knn(disMat,y_train,1)\n",
    "acc1 = model_evaluation(knn_pred,y_test)\n",
    "hist.append(acc1)"
   ]
  },
  {
   "cell_type": "markdown",
   "metadata": {
    "colab_type": "text",
    "id": "0nxcY5FWGlkP"
   },
   "source": [
    "#### K = 3"
   ]
  },
  {
   "cell_type": "code",
   "execution_count": 0,
   "metadata": {
    "colab": {
     "base_uri": "https://localhost:8080/",
     "height": 190
    },
    "colab_type": "code",
    "id": "86X71e9jGlkR",
    "outputId": "4566dc96-f61f-431f-8b65-1a9f545ab4ee"
   },
   "outputs": [
    {
     "name": "stdout",
     "output_type": "stream",
     "text": [
      "CLASSIFIER   |    GOLD LABELS   |\n",
      "OUTPUT       |    pos   |  neg  |\n",
      "         pos |   2243   |  1192 |\n",
      "         neg |   484   |  1805 |\n",
      "------------------------------------\n",
      "\n",
      "Model Accuracy :  78.372 %\n",
      "Precision :  0.653\n",
      "Recall    :  0.823\n",
      "F1 score  :  0.728\n"
     ]
    }
   ],
   "source": [
    "knn_pred = Knn(disMat,y_train,3)\n",
    "acc3 = model_evaluation(knn_pred,y_test)\n",
    "hist.append(acc3)"
   ]
  },
  {
   "cell_type": "markdown",
   "metadata": {
    "colab_type": "text",
    "id": "CPq0_avbGlkX"
   },
   "source": [
    "#### k = 5"
   ]
  },
  {
   "cell_type": "code",
   "execution_count": 0,
   "metadata": {
    "colab": {
     "base_uri": "https://localhost:8080/",
     "height": 190
    },
    "colab_type": "code",
    "id": "6o-e_iamGlkY",
    "outputId": "d7ef9af2-841c-42dc-abdb-d4862c72df40"
   },
   "outputs": [
    {
     "name": "stdout",
     "output_type": "stream",
     "text": [
      "CLASSIFIER   |    GOLD LABELS   |\n",
      "OUTPUT       |    pos   |  neg  |\n",
      "         pos |   2300   |  1249 |\n",
      "         neg |   427   |  1748 |\n",
      "------------------------------------\n",
      "\n",
      "Model Accuracy :  80.363 %\n",
      "Precision :  0.648\n",
      "Recall    :  0.843\n",
      "F1 score  :  0.733\n"
     ]
    }
   ],
   "source": [
    "knn_pred = Knn(disMat,y_train,5)\n",
    "acc5 = model_evaluation(knn_pred,y_test)\n",
    "hist.append(acc5)"
   ]
  },
  {
   "cell_type": "markdown",
   "metadata": {
    "colab_type": "text",
    "id": "n87kXABCGlke"
   },
   "source": [
    "#### k = 7"
   ]
  },
  {
   "cell_type": "code",
   "execution_count": 0,
   "metadata": {
    "colab": {
     "base_uri": "https://localhost:8080/",
     "height": 190
    },
    "colab_type": "code",
    "id": "6euAsQPzGlkg",
    "outputId": "9e1f60fb-98b7-4d3f-beb6-89cb7aa6c179"
   },
   "outputs": [
    {
     "name": "stdout",
     "output_type": "stream",
     "text": [
      "CLASSIFIER   |    GOLD LABELS   |\n",
      "OUTPUT       |    pos   |  neg  |\n",
      "         pos |   2318   |  1273 |\n",
      "         neg |   409   |  1724 |\n",
      "------------------------------------\n",
      "\n",
      "Model Accuracy :  80.992 %\n",
      "Precision :  0.646\n",
      "Recall    :  0.85\n",
      "F1 score  :  0.734\n"
     ]
    }
   ],
   "source": [
    "knn_pred = Knn(disMat,y_train,7)\n",
    "acc7 = model_evaluation(knn_pred,y_test)\n",
    "hist.append(acc7)"
   ]
  },
  {
   "cell_type": "markdown",
   "metadata": {
    "colab_type": "text",
    "id": "uq3hKyljGlkm"
   },
   "source": [
    "#### k = 9"
   ]
  },
  {
   "cell_type": "code",
   "execution_count": 0,
   "metadata": {
    "colab": {
     "base_uri": "https://localhost:8080/",
     "height": 190
    },
    "colab_type": "code",
    "id": "7-U-c6F9Glkn",
    "outputId": "5403e83a-7b96-4b16-87a6-f3de31c89371"
   },
   "outputs": [
    {
     "name": "stdout",
     "output_type": "stream",
     "text": [
      "CLASSIFIER   |    GOLD LABELS   |\n",
      "OUTPUT       |    pos   |  neg  |\n",
      "         pos |   2337   |  1293 |\n",
      "         neg |   390   |  1704 |\n",
      "------------------------------------\n",
      "\n",
      "Model Accuracy :  81.656 %\n",
      "Precision :  0.644\n",
      "Recall    :  0.857\n",
      "F1 score  :  0.735\n"
     ]
    }
   ],
   "source": [
    "knn_pred = Knn(disMat,y_train,9)\n",
    "acc9 = model_evaluation(knn_pred,y_test)\n",
    "hist.append(acc9)"
   ]
  },
  {
   "cell_type": "markdown",
   "metadata": {
    "colab_type": "text",
    "id": "KZY4HKMEYAxg"
   },
   "source": [
    "#### 3.1 Knn Summary"
   ]
  },
  {
   "cell_type": "code",
   "execution_count": 0,
   "metadata": {
    "colab": {
     "base_uri": "https://localhost:8080/",
     "height": 267
    },
    "colab_type": "code",
    "id": "TCcBel44SJ8Y",
    "outputId": "3aab24ef-0e13-44d0-8530-ba865d36453f"
   },
   "outputs": [
    {
     "data": {
      "image/png": "[encoded data removed]",
      "text/plain": [
       "<Figure size 432x288 with 1 Axes>"
      ]
     },
     "metadata": {
      "needs_background": "light",
      "tags": []
     },
     "output_type": "display_data"
    }
   ],
   "source": [
    "plt.plot([1,3,5,7,9],hist)\n",
    "plt.show()"
   ]
  },
  {
   "cell_type": "code",
   "execution_count": 0,
   "metadata": {
    "colab": {
     "base_uri": "https://localhost:8080/",
     "height": 281
    },
    "colab_type": "code",
    "id": "N8fc92c3Glkv",
    "outputId": "017dc337-0edd-41df-d69e-01dd6d46664b"
   },
   "outputs": [
    {
     "data": {
      "image/png": "[encoded data removed]",
      "text/plain": [
       "<Figure size 432x288 with 1 Axes>"
      ]
     },
     "metadata": {
      "needs_background": "light",
      "tags": []
     },
     "output_type": "display_data"
    }
   ],
   "source": [
    "x = [1,3,5,7,9]\n",
    "plt.bar(x,hist)\n",
    "plt.xticks(x)\n",
    "plt.title('Accuracies over differnt values of K')\n",
    "plt.show()"
   ]
  },
  {
   "cell_type": "markdown",
   "metadata": {
    "colab_type": "text",
    "id": "t6NbCn1cWOtT"
   },
   "source": [
    "|  K |Accuracy|Precision|Recall|F1 score|\n",
    "|---|---|---|---|---|\n",
    "| 1  |0.730|0.644|0.767|0.700|\n",
    "| 3  |0.784|0.653|0.823|0.728|\n",
    "| 5  |0.804|0.648|0.843|0.733|\n",
    "| 7  |0.809|0.646|0.850|0.734|\n",
    "| 9  |0.816|0.644|0.857|0.735|\n"
   ]
  },
  {
   "cell_type": "markdown",
   "metadata": {
    "colab_type": "text",
    "id": "8mb1hKLHGlkz"
   },
   "source": [
    "# 4. Perceptron"
   ]
  },
  {
   "cell_type": "code",
   "execution_count": 0,
   "metadata": {
    "colab": {},
    "colab_type": "code",
    "id": "L5OoN73uGlk0"
   },
   "outputs": [],
   "source": [
    "y_train2 = y_train\n",
    "y_train2[y_train2==0] = -1\n",
    "\n",
    "y_test2 = y_test\n",
    "y_test2[y_test2==0] = -1"
   ]
  },
  {
   "cell_type": "code",
   "execution_count": 0,
   "metadata": {
    "colab": {},
    "colab_type": "code",
    "id": "mACqkisNGlk6"
   },
   "outputs": [],
   "source": [
    "class Perceptron():\n",
    "    def __init__(self,epochs,lr):\n",
    "        self.epochs = epochs\n",
    "        self.lr = lr\n",
    "                \n",
    "    def predict(self,X):\n",
    "        predictions = np.zeros(shape = (len(X),1))\n",
    "        for i in range(len(X)):\n",
    "            x = np.insert(X[i], 0, 1)\n",
    "            z = np.dot(self.weights.T,x)\n",
    "            if z > 0 :\n",
    "                predictions[i] = 1\n",
    "            else:\n",
    "                predictions[i] = -1\n",
    "        return predictions\n",
    "    \n",
    "    def fit(self,X,y):\n",
    "        self.weights = np.zeros(X.shape[1]+1)\n",
    "        for epoch in tqdm(range(self.epochs)):    \n",
    "            m = 0\n",
    "            for i in range(len(X)):\n",
    "                x = np.insert(X[i], 0, 1)\n",
    "                if np.dot(self.weights.T,x) * y_train2[i] <= 0:\n",
    "                    self.weights = self.weights + self.lr* y[i] * x\n",
    "                    m = m + 1\n",
    "            if m == 0:\n",
    "                break  \n",
    "        return\n"
   ]
  },
  {
   "cell_type": "code",
   "execution_count": 0,
   "metadata": {
    "colab": {
     "base_uri": "https://localhost:8080/",
     "height": 239,
     "referenced_widgets": [
      "f56a2af43b344ad0a65fdd1ad2f0faa6",
      "63b6f30f171b44b6abd2f272f9435bc7",
      "08242858d065499a8e092265164598ed",
      "9343bec8332d43ffafe45e786a269b80",
      "9d1b870d7b6e4beba9913d69fdf60895",
      "7c369b1b60674079aa6a54b372c8ae68",
      "76f08e4216974091b0b7c58b2091f5e7",
      "e0edde6bcc2d44659e257e3217a2a01a"
     ]
    },
    "colab_type": "code",
    "id": "HoX-YAwEGlk-",
    "outputId": "109f3dba-5e2f-46ad-d0d1-56f36ad472e9"
   },
   "outputs": [
    {
     "data": {
      "application/vnd.jupyter.widget-view+json": {
       "model_id": "f56a2af43b344ad0a65fdd1ad2f0faa6",
       "version_major": 2,
       "version_minor": 0
      },
      "text/plain": [
       "HBox(children=(FloatProgress(value=0.0, max=5.0), HTML(value='')))"
      ]
     },
     "metadata": {
      "tags": []
     },
     "output_type": "display_data"
    },
    {
     "name": "stdout",
     "output_type": "stream",
     "text": [
      "\n",
      "CLASSIFIER   |    GOLD LABELS   |\n",
      "OUTPUT       |    pos   |  neg  |\n",
      "         pos |   2659   |  2628 |\n",
      "         neg |   68   |  369 |\n",
      "------------------------------------\n",
      "\n",
      "Model Accuracy :  92.907 %\n",
      "Precision :  0.503\n",
      "Recall    :  0.975\n",
      "F1 score  :  0.664\n"
     ]
    }
   ],
   "source": [
    "jarvis = Perceptron(epochs=5,lr=0.01)\n",
    "jarvis.fit(X_train,y_train2)\n",
    "perceptron_pred = jarvis.predict(X_test)\n",
    "acc = model_evaluation(perceptron_pred,y_test2,'perceptron')"
   ]
  },
  {
   "cell_type": "markdown",
   "metadata": {
    "colab_type": "text",
    "id": "WXLcRum9GllD"
   },
   "source": [
    "# 5. Comparision of models\n"
   ]
  },
  {
   "cell_type": "markdown",
   "metadata": {
    "colab_type": "text",
    "id": "DjqZLY5DGllE"
   },
   "source": [
    "| Model               |Accuracy|Precision|Recall|F1 score|\n",
    "|-------              |---   |---|---|---|\n",
    "| Logistic Regression | 0.655 | 0.735 | 0.688 | 0.711 |\n",
    "| KNN                 | 0.816| 0.644 | 0.857| 0.735 |\n",
    "| Perceptron          | 0.929 | 0.503 | 0.975 | 0.664 |\n",
    "\n"
   ]
  },
  {
   "cell_type": "markdown",
   "metadata": {},
   "source": [
    "**Precision**  \n",
    "Precision is the ratio of system generated results that correctly predicted positive observations to total predicted positive observations, both correct and incorrect. Implying, how many of headlines labelled by the system as sarcastic are actually sarcastic. High precision indicates low false positive rate. Logistic Regression looks best if this metric is prioritized. \n",
    "\n",
    "**Recall**   \n",
    "Recall is the ratio of system generated results that correctly predicted positive observations to all observations in the actual sarcastic class. Implying, of all the headlines that are sarcastic, how many of those did the algorithm correctly classifies as sarcastic. Recall highlights the sensitivity of the algorithm high recall relates to a low false negative rate. Perceptron is giving best results relatively according to this metric as well. \n",
    "\n",
    "**Accuracy**   \n",
    "Accuracy is a good measure for symmetric datasets and is ratio of the correctly predicted classifications (whether sarcastic or not) to the total Test Dataset. Implying how many sarcastic headlines the system correctly classified out of all the headlines. Perceptron is relatively better according to this metric.    \n",
    "\n",
    "**F1 value**   \n",
    "The F1 Score works best for uneven class distribution and is the weighted average of Precision and Recall. higher F1 score means that there are low false positives and low false negatives. KNN also looks best according to this parameter.   "
   ]
  },
  {
   "cell_type": "markdown",
   "metadata": {},
   "source": [
    "However, Out of all algorithms, it is difficult to decide on the best algorithm using only one metric.It can be chosen based on requirements and expectations from the project."
   ]
  }
 ],
 "metadata": {
  "colab": {
   "collapsed_sections": [
    "vDKWUadKGlkH",
    "0nxcY5FWGlkP",
    "CPq0_avbGlkX",
    "n87kXABCGlke",
    "uq3hKyljGlkm"
   ],
   "name": "Project.ipynb",
   "provenance": []
  },
  "kernelspec": {
   "display_name": "Python 3",
   "language": "python",
   "name": "python3"
  },
  "language_info": {
   "codemirror_mode": {
    "name": "ipython",
    "version": 3
   },
   "file_extension": ".py",
   "mimetype": "text/x-python",
   "name": "python",
   "nbconvert_exporter": "python",
   "pygments_lexer": "ipython3",
   "version": "3.7.5"
  },
  "widgets": {
   "application/vnd.jupyter.widget-state+json": {
    "08242858d065499a8e092265164598ed": {
     "model_module": "@jupyter-widgets/controls",
     "model_name": "FloatProgressModel",
     "state": {
      "_dom_classes": [],
      "_model_module": "@jupyter-widgets/controls",
      "_model_module_version": "1.5.0",
      "_model_name": "FloatProgressModel",
      "_view_count": null,
      "_view_module": "@jupyter-widgets/controls",
      "_view_module_version": "1.5.0",
      "_view_name": "ProgressView",
      "bar_style": "success",
      "description": "100%",
      "description_tooltip": null,
      "layout": "IPY_MODEL_7c369b1b60674079aa6a54b372c8ae68",
      "max": 5,
      "min": 0,
      "orientation": "horizontal",
      "style": "IPY_MODEL_9d1b870d7b6e4beba9913d69fdf60895",
      "value": 5
     }
    },
    "2e36021e4ee54206bd6bed12abf538ed": {
     "model_module": "@jupyter-widgets/controls",
     "model_name": "DescriptionStyleModel",
     "state": {
      "_model_module": "@jupyter-widgets/controls",
      "_model_module_version": "1.5.0",
      "_model_name": "DescriptionStyleModel",
      "_view_count": null,
      "_view_module": "@jupyter-widgets/base",
      "_view_module_version": "1.2.0",
      "_view_name": "StyleView",
      "description_width": ""
     }
    },
    "63b6f30f171b44b6abd2f272f9435bc7": {
     "model_module": "@jupyter-widgets/base",
     "model_name": "LayoutModel",
     "state": {
      "_model_module": "@jupyter-widgets/base",
      "_model_module_version": "1.2.0",
      "_model_name": "LayoutModel",
      "_view_count": null,
      "_view_module": "@jupyter-widgets/base",
      "_view_module_version": "1.2.0",
      "_view_name": "LayoutView",
      "align_content": null,
      "align_items": null,
      "align_self": null,
      "border": null,
      "bottom": null,
      "display": null,
      "flex": null,
      "flex_flow": null,
      "grid_area": null,
      "grid_auto_columns": null,
      "grid_auto_flow": null,
      "grid_auto_rows": null,
      "grid_column": null,
      "grid_gap": null,
      "grid_row": null,
      "grid_template_areas": null,
      "grid_template_columns": null,
      "grid_template_rows": null,
      "height": null,
      "justify_content": null,
      "justify_items": null,
      "left": null,
      "margin": null,
      "max_height": null,
      "max_width": null,
      "min_height": null,
      "min_width": null,
      "object_fit": null,
      "object_position": null,
      "order": null,
      "overflow": null,
      "overflow_x": null,
      "overflow_y": null,
      "padding": null,
      "right": null,
      "top": null,
      "visibility": null,
      "width": null
     }
    },
    "76abc7acb6ea445a8772833492becad1": {
     "model_module": "@jupyter-widgets/controls",
     "model_name": "FloatProgressModel",
     "state": {
      "_dom_classes": [],
      "_model_module": "@jupyter-widgets/controls",
      "_model_module_version": "1.5.0",
      "_model_name": "FloatProgressModel",
      "_view_count": null,
      "_view_module": "@jupyter-widgets/controls",
      "_view_module_version": "1.5.0",
      "_view_name": "ProgressView",
      "bar_style": "success",
      "description": "100%",
      "description_tooltip": null,
      "layout": "IPY_MODEL_a3f3973a157d4d528d019fe5f2fbda5b",
      "max": 1500,
      "min": 0,
      "orientation": "horizontal",
      "style": "IPY_MODEL_a027708ad40e4db0b2a128153672c81f",
      "value": 1500
     }
    },
    "76f08e4216974091b0b7c58b2091f5e7": {
     "model_module": "@jupyter-widgets/controls",
     "model_name": "DescriptionStyleModel",
     "state": {
      "_model_module": "@jupyter-widgets/controls",
      "_model_module_version": "1.5.0",
      "_model_name": "DescriptionStyleModel",
      "_view_count": null,
      "_view_module": "@jupyter-widgets/base",
      "_view_module_version": "1.2.0",
      "_view_name": "StyleView",
      "description_width": ""
     }
    },
    "7c369b1b60674079aa6a54b372c8ae68": {
     "model_module": "@jupyter-widgets/base",
     "model_name": "LayoutModel",
     "state": {
      "_model_module": "@jupyter-widgets/base",
      "_model_module_version": "1.2.0",
      "_model_name": "LayoutModel",
      "_view_count": null,
      "_view_module": "@jupyter-widgets/base",
      "_view_module_version": "1.2.0",
      "_view_name": "LayoutView",
      "align_content": null,
      "align_items": null,
      "align_self": null,
      "border": null,
      "bottom": null,
      "display": null,
      "flex": null,
      "flex_flow": null,
      "grid_area": null,
      "grid_auto_columns": null,
      "grid_auto_flow": null,
      "grid_auto_rows": null,
      "grid_column": null,
      "grid_gap": null,
      "grid_row": null,
      "grid_template_areas": null,
      "grid_template_columns": null,
      "grid_template_rows": null,
      "height": null,
      "justify_content": null,
      "justify_items": null,
      "left": null,
      "margin": null,
      "max_height": null,
      "max_width": null,
      "min_height": null,
      "min_width": null,
      "object_fit": null,
      "object_position": null,
      "order": null,
      "overflow": null,
      "overflow_x": null,
      "overflow_y": null,
      "padding": null,
      "right": null,
      "top": null,
      "visibility": null,
      "width": null
     }
    },
    "82516b4c12564ae19f494bd74e01cc4e": {
     "model_module": "@jupyter-widgets/controls",
     "model_name": "HBoxModel",
     "state": {
      "_dom_classes": [],
      "_model_module": "@jupyter-widgets/controls",
      "_model_module_version": "1.5.0",
      "_model_name": "HBoxModel",
      "_view_count": null,
      "_view_module": "@jupyter-widgets/controls",
      "_view_module_version": "1.5.0",
      "_view_name": "HBoxView",
      "box_style": "",
      "children": [
       "IPY_MODEL_76abc7acb6ea445a8772833492becad1",
       "IPY_MODEL_e14d2d3a946e4861bd1535aac8d40361"
      ],
      "layout": "IPY_MODEL_bee33c4f40024e5d8ce8f44daf52a4ab"
     }
    },
    "9343bec8332d43ffafe45e786a269b80": {
     "model_module": "@jupyter-widgets/controls",
     "model_name": "HTMLModel",
     "state": {
      "_dom_classes": [],
      "_model_module": "@jupyter-widgets/controls",
      "_model_module_version": "1.5.0",
      "_model_name": "HTMLModel",
      "_view_count": null,
      "_view_module": "@jupyter-widgets/controls",
      "_view_module_version": "1.5.0",
      "_view_name": "HTMLView",
      "description": "",
      "description_tooltip": null,
      "layout": "IPY_MODEL_e0edde6bcc2d44659e257e3217a2a01a",
      "placeholder": "​",
      "style": "IPY_MODEL_76f08e4216974091b0b7c58b2091f5e7",
      "value": " 5/5 [00:03&lt;00:00,  1.44it/s]"
     }
    },
    "9d1b870d7b6e4beba9913d69fdf60895": {
     "model_module": "@jupyter-widgets/controls",
     "model_name": "ProgressStyleModel",
     "state": {
      "_model_module": "@jupyter-widgets/controls",
      "_model_module_version": "1.5.0",
      "_model_name": "ProgressStyleModel",
      "_view_count": null,
      "_view_module": "@jupyter-widgets/base",
      "_view_module_version": "1.2.0",
      "_view_name": "StyleView",
      "bar_color": null,
      "description_width": "initial"
     }
    },
    "9f977595e04d44ae82fd48e25c68896f": {
     "model_module": "@jupyter-widgets/base",
     "model_name": "LayoutModel",
     "state": {
      "_model_module": "@jupyter-widgets/base",
      "_model_module_version": "1.2.0",
      "_model_name": "LayoutModel",
      "_view_count": null,
      "_view_module": "@jupyter-widgets/base",
      "_view_module_version": "1.2.0",
      "_view_name": "LayoutView",
      "align_content": null,
      "align_items": null,
      "align_self": null,
      "border": null,
      "bottom": null,
      "display": null,
      "flex": null,
      "flex_flow": null,
      "grid_area": null,
      "grid_auto_columns": null,
      "grid_auto_flow": null,
      "grid_auto_rows": null,
      "grid_column": null,
      "grid_gap": null,
      "grid_row": null,
      "grid_template_areas": null,
      "grid_template_columns": null,
      "grid_template_rows": null,
      "height": null,
      "justify_content": null,
      "justify_items": null,
      "left": null,
      "margin": null,
      "max_height": null,
      "max_width": null,
      "min_height": null,
      "min_width": null,
      "object_fit": null,
      "object_position": null,
      "order": null,
      "overflow": null,
      "overflow_x": null,
      "overflow_y": null,
      "padding": null,
      "right": null,
      "top": null,
      "visibility": null,
      "width": null
     }
    },
    "a027708ad40e4db0b2a128153672c81f": {
     "model_module": "@jupyter-widgets/controls",
     "model_name": "ProgressStyleModel",
     "state": {
      "_model_module": "@jupyter-widgets/controls",
      "_model_module_version": "1.5.0",
      "_model_name": "ProgressStyleModel",
      "_view_count": null,
      "_view_module": "@jupyter-widgets/base",
      "_view_module_version": "1.2.0",
      "_view_name": "StyleView",
      "bar_color": null,
      "description_width": "initial"
     }
    },
    "a3f3973a157d4d528d019fe5f2fbda5b": {
     "model_module": "@jupyter-widgets/base",
     "model_name": "LayoutModel",
     "state": {
      "_model_module": "@jupyter-widgets/base",
      "_model_module_version": "1.2.0",
      "_model_name": "LayoutModel",
      "_view_count": null,
      "_view_module": "@jupyter-widgets/base",
      "_view_module_version": "1.2.0",
      "_view_name": "LayoutView",
      "align_content": null,
      "align_items": null,
      "align_self": null,
      "border": null,
      "bottom": null,
      "display": null,
      "flex": null,
      "flex_flow": null,
      "grid_area": null,
      "grid_auto_columns": null,
      "grid_auto_flow": null,
      "grid_auto_rows": null,
      "grid_column": null,
      "grid_gap": null,
      "grid_row": null,
      "grid_template_areas": null,
      "grid_template_columns": null,
      "grid_template_rows": null,
      "height": null,
      "justify_content": null,
      "justify_items": null,
      "left": null,
      "margin": null,
      "max_height": null,
      "max_width": null,
      "min_height": null,
      "min_width": null,
      "object_fit": null,
      "object_position": null,
      "order": null,
      "overflow": null,
      "overflow_x": null,
      "overflow_y": null,
      "padding": null,
      "right": null,
      "top": null,
      "visibility": null,
      "width": null
     }
    },
    "bee33c4f40024e5d8ce8f44daf52a4ab": {
     "model_module": "@jupyter-widgets/base",
     "model_name": "LayoutModel",
     "state": {
      "_model_module": "@jupyter-widgets/base",
      "_model_module_version": "1.2.0",
      "_model_name": "LayoutModel",
      "_view_count": null,
      "_view_module": "@jupyter-widgets/base",
      "_view_module_version": "1.2.0",
      "_view_name": "LayoutView",
      "align_content": null,
      "align_items": null,
      "align_self": null,
      "border": null,
      "bottom": null,
      "display": null,
      "flex": null,
      "flex_flow": null,
      "grid_area": null,
      "grid_auto_columns": null,
      "grid_auto_flow": null,
      "grid_auto_rows": null,
      "grid_column": null,
      "grid_gap": null,
      "grid_row": null,
      "grid_template_areas": null,
      "grid_template_columns": null,
      "grid_template_rows": null,
      "height": null,
      "justify_content": null,
      "justify_items": null,
      "left": null,
      "margin": null,
      "max_height": null,
      "max_width": null,
      "min_height": null,
      "min_width": null,
      "object_fit": null,
      "object_position": null,
      "order": null,
      "overflow": null,
      "overflow_x": null,
      "overflow_y": null,
      "padding": null,
      "right": null,
      "top": null,
      "visibility": null,
      "width": null
     }
    },
    "e0edde6bcc2d44659e257e3217a2a01a": {
     "model_module": "@jupyter-widgets/base",
     "model_name": "LayoutModel",
     "state": {
      "_model_module": "@jupyter-widgets/base",
      "_model_module_version": "1.2.0",
      "_model_name": "LayoutModel",
      "_view_count": null,
      "_view_module": "@jupyter-widgets/base",
      "_view_module_version": "1.2.0",
      "_view_name": "LayoutView",
      "align_content": null,
      "align_items": null,
      "align_self": null,
      "border": null,
      "bottom": null,
      "display": null,
      "flex": null,
      "flex_flow": null,
      "grid_area": null,
      "grid_auto_columns": null,
      "grid_auto_flow": null,
      "grid_auto_rows": null,
      "grid_column": null,
      "grid_gap": null,
      "grid_row": null,
      "grid_template_areas": null,
      "grid_template_columns": null,
      "grid_template_rows": null,
      "height": null,
      "justify_content": null,
      "justify_items": null,
      "left": null,
      "margin": null,
      "max_height": null,
      "max_width": null,
      "min_height": null,
      "min_width": null,
      "object_fit": null,
      "object_position": null,
      "order": null,
      "overflow": null,
      "overflow_x": null,
      "overflow_y": null,
      "padding": null,
      "right": null,
      "top": null,
      "visibility": null,
      "width": null
     }
    },
    "e14d2d3a946e4861bd1535aac8d40361": {
     "model_module": "@jupyter-widgets/controls",
     "model_name": "HTMLModel",
     "state": {
      "_dom_classes": [],
      "_model_module": "@jupyter-widgets/controls",
      "_model_module_version": "1.5.0",
      "_model_name": "HTMLModel",
      "_view_count": null,
      "_view_module": "@jupyter-widgets/controls",
      "_view_module_version": "1.5.0",
      "_view_name": "HTMLView",
      "description": "",
      "description_tooltip": null,
      "layout": "IPY_MODEL_9f977595e04d44ae82fd48e25c68896f",
      "placeholder": "​",
      "style": "IPY_MODEL_2e36021e4ee54206bd6bed12abf538ed",
      "value": " 1500/1500 [03:14&lt;00:00,  7.71it/s]"
     }
    },
    "f56a2af43b344ad0a65fdd1ad2f0faa6": {
     "model_module": "@jupyter-widgets/controls",
     "model_name": "HBoxModel",
     "state": {
      "_dom_classes": [],
      "_model_module": "@jupyter-widgets/controls",
      "_model_module_version": "1.5.0",
      "_model_name": "HBoxModel",
      "_view_count": null,
      "_view_module": "@jupyter-widgets/controls",
      "_view_module_version": "1.5.0",
      "_view_name": "HBoxView",
      "box_style": "",
      "children": [
       "IPY_MODEL_08242858d065499a8e092265164598ed",
       "IPY_MODEL_9343bec8332d43ffafe45e786a269b80"
      ],
      "layout": "IPY_MODEL_63b6f30f171b44b6abd2f272f9435bc7"
     }
    }
   }
  }
 },
 "nbformat": 4,
 "nbformat_minor": 1
}
