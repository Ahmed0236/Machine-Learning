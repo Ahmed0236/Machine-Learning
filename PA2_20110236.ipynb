{
 "cells": [
  {
   "cell_type": "markdown",
   "metadata": {},
   "source": [
    "## 20110236 Ahmed Anwar  ML PA2"
   ]
  },
  {
   "cell_type": "markdown",
   "metadata": {},
   "source": [
    "### 0. Loading Dependencies"
   ]
  },
  {
   "cell_type": "code",
   "execution_count": 439,
   "metadata": {},
   "outputs": [],
   "source": [
    "import numpy as np\n",
    "import pandas as pd\n",
    "import glob\n",
    "import matplotlib.pyplot as plt"
   ]
  },
  {
   "cell_type": "markdown",
   "metadata": {},
   "source": [
    "### 1. Data Preprocessing"
   ]
  },
  {
   "cell_type": "markdown",
   "metadata": {},
   "source": [
    "#### 1.1 Defining directories"
   ]
  },
  {
   "cell_type": "code",
   "execution_count": 440,
   "metadata": {},
   "outputs": [],
   "source": [
    "train_dir = 'Dataset/train/'\n",
    "test_dir = 'Dataset/test/'"
   ]
  },
  {
   "cell_type": "code",
   "execution_count": 441,
   "metadata": {},
   "outputs": [],
   "source": [
    "train_pos = glob.glob(train_dir+'/pos/*')\n",
    "train_neg = glob.glob(train_dir+'/neg/*')\n",
    "test_pos = glob.glob(test_dir+'/pos/*')"
   ]
  },
  {
   "cell_type": "markdown",
   "metadata": {},
   "source": [
    "#### 1.2 Reading positive and negative corpus of words"
   ]
  },
  {
   "cell_type": "code",
   "execution_count": 442,
   "metadata": {},
   "outputs": [
    {
     "name": "stdout",
     "output_type": "stream",
     "text": [
      "Total Positve  words :  2006\n",
      "Total Negative words :  4783\n"
     ]
    }
   ],
   "source": [
    "positive = np.loadtxt('Dataset/positive-words.txt',dtype = str)\n",
    "negative = np.loadtxt('Dataset/negative-words.txt',dtype = str)\n",
    "\n",
    "print('Total Positve  words : ', len(positive))\n",
    "print('Total Negative words : ', len(negative))"
   ]
  },
  {
   "cell_type": "markdown",
   "metadata": {},
   "source": [
    "#### 1.3 Function to clean a review"
   ]
  },
  {
   "cell_type": "code",
   "execution_count": 443,
   "metadata": {},
   "outputs": [],
   "source": [
    "def clean_review(review):\n",
    "    review = review.lower().replace(',','').replace('.','').replace('<br','').replace('/><br','').replace('/>','').replace(')','').replace('(','')\n",
    "    review = review.replace((\"\\'\"),(\"\")).replace(\";\",\"\").replace('  ',' ').replace('?',' ').replace('\"', '')\n",
    "    return review"
   ]
  },
  {
   "cell_type": "markdown",
   "metadata": {},
   "source": [
    "#### 1.4 Function to generate features from a review"
   ]
  },
  {
   "cell_type": "code",
   "execution_count": 444,
   "metadata": {},
   "outputs": [],
   "source": [
    "def get_features(path, pos_list = positive, neg_list = negative):\n",
    "    \n",
    "    f = open(path,\"r\",encoding=\"utf8\")\n",
    "    review = f.readline()\n",
    "    f.close()\n",
    "        \n",
    "    #clean review\n",
    "    review_clean = clean_review(review)\n",
    "    \n",
    "    \n",
    "    # X1 count(positive words) ∈ review \n",
    "    pos_count = 0\n",
    "    for i in pos_list:\n",
    "        pos_count = pos_count + review.count(i) # <----------X1 \n",
    "    x1 = pos_count\n",
    "    \n",
    "    # X2 count(negative words) ∈ review\n",
    "    neg_count = 0\n",
    "    for i in neg_list:\n",
    "        neg_count = neg_count + review.count(i) # <----------X2\n",
    "    x2 = neg_count\n",
    "    \n",
    "    \n",
    "    # X3 Star Rating (1-10 scale) \n",
    "    start = path.find('_')+1\n",
    "    end = path.find('.')\n",
    "    x3 = int(path[start:end])                    # <----------X3\n",
    "    \n",
    "    # X4 log(word count of review)\n",
    "    x4 = np.log(len(review.split()))    # <----------X4\n",
    "    \n",
    "    # X5 1 if “no” ∈ review, 0 otherwise\n",
    "    x5 = 0   \n",
    "    if \"no\" in review.split():                  # <----------X5        \n",
    "        x5 = 1\n",
    "    \n",
    "    # X6 1 if “!” ∈ review, 0 otherwise\n",
    "    x6 = 0\n",
    "    if \"!\" in review:                           # <----------X6       \n",
    "        x6 = 1\n",
    "    \n",
    "        \n",
    "    return (x1,x2,x3,x4,x5,x6)"
   ]
  },
  {
   "cell_type": "markdown",
   "metadata": {},
   "source": [
    "#### 1.5 Function to Build DataFrame from the reviews"
   ]
  },
  {
   "cell_type": "code",
   "execution_count": 445,
   "metadata": {},
   "outputs": [],
   "source": [
    "def getData(directory):\n",
    "    \n",
    "    X1 = [] # count(positive words) ∈ review \n",
    "    X2 = [] # count(negative words) ∈ review\n",
    "    X3 = [] # Star Rating (1-10 scale) \n",
    "    X4 = [] # log(word count of review)\n",
    "    X5 = [] # 1 if “no” ∈ review, 0 otherwise\n",
    "    X6 = [] # 1 if “!” ∈ review, 0 otherwise\n",
    "    Y  = [] # 1 if positive, 0 otherwise\n",
    "    \n",
    "    \n",
    "    positive_paths = glob.glob(directory +'/pos/*')\n",
    "    negative_paths = glob.glob(directory +'/neg/*')\n",
    "    \n",
    "    #one for loop given that postive and negative reviews are of same length\n",
    "    for i in range(len(positive_paths)):\n",
    "        \n",
    "        features = get_features(positive_paths[i])\n",
    "        X1.append(features[0])\n",
    "        X2.append(features[1])\n",
    "        X3.append(features[2])\n",
    "        X4.append(features[3])\n",
    "        X5.append(features[4])\n",
    "        X6.append(features[5])\n",
    "        Y.append(1)\n",
    "        \n",
    "        features = get_features(negative_paths[i])\n",
    "        X1.append(features[0])\n",
    "        X2.append(features[1])\n",
    "        X3.append(features[2])\n",
    "        X4.append(features[3])\n",
    "        X5.append(features[4])\n",
    "        X6.append(features[5])\n",
    "        Y.append(0)\n",
    "    \n",
    "    df = pd.DataFrame({\n",
    "                       'X1': X1,\n",
    "                       'X2': X2,\n",
    "                       'X3': X3,\n",
    "                       'X4': X4,\n",
    "                       'X5': X5,\n",
    "                       'X6': X6,\n",
    "                       'Y' : Y\n",
    "                      })\n",
    "    return df"
   ]
  },
  {
   "cell_type": "markdown",
   "metadata": {},
   "source": [
    "#### 1.6 Dump data sets to save time"
   ]
  },
  {
   "cell_type": "code",
   "execution_count": 446,
   "metadata": {},
   "outputs": [
    {
     "name": "stdout",
     "output_type": "stream",
     "text": [
      "Wall time: 10min 52s\n"
     ]
    }
   ],
   "source": [
    "%time train_set = getData(train_dir)\n",
    "train_set.to_csv('train.csv',index=False)"
   ]
  },
  {
   "cell_type": "code",
   "execution_count": 447,
   "metadata": {},
   "outputs": [
    {
     "name": "stdout",
     "output_type": "stream",
     "text": [
      "Wall time: 9min 58s\n"
     ]
    }
   ],
   "source": [
    "%time test_set = getData(test_dir)\n",
    "test_set.to_csv('test.csv',index=False)"
   ]
  },
  {
   "cell_type": "markdown",
   "metadata": {},
   "source": [
    "### 2. Logistic Regression"
   ]
  },
  {
   "cell_type": "markdown",
   "metadata": {},
   "source": [
    "####  2.1 Load data sets "
   ]
  },
  {
   "cell_type": "code",
   "execution_count": 448,
   "metadata": {},
   "outputs": [],
   "source": [
    "train = pd.read_csv('train.csv')\n",
    "test = pd.read_csv('test.csv')\n",
    "\n",
    "X_train = np.asarray(train.iloc[:,0:6]).reshape(len(X_train),6)\n",
    "Y_train = np.asarray(train.iloc[:,6]).reshape(len(X_train),1)\n",
    "\n",
    "X_test = np.asarray(test.iloc[:,0:6])\n",
    "Y_test = np.asarray(test.iloc[:,6])"
   ]
  },
  {
   "cell_type": "markdown",
   "metadata": {},
   "source": [
    "#### 2.2 Function to initialize the parameters"
   ]
  },
  {
   "cell_type": "code",
   "execution_count": 449,
   "metadata": {},
   "outputs": [],
   "source": [
    "def initialize(features):\n",
    "    #This function initialies the weights randomly according to specific shape\n",
    "    weights = np.random.normal(size = (features.shape[1],1))\n",
    "    bias = 0\n",
    "    parameters = {'weights':weights, 'bias':bias}\n",
    "    return parameters"
   ]
  },
  {
   "cell_type": "markdown",
   "metadata": {},
   "source": [
    "#### 2.3 Sigmoid Activation function"
   ]
  },
  {
   "cell_type": "code",
   "execution_count": 450,
   "metadata": {},
   "outputs": [],
   "source": [
    "def sigmoid(z):\n",
    "    return 1.0 / (1 + np.exp(-z))"
   ]
  },
  {
   "cell_type": "markdown",
   "metadata": {},
   "source": [
    "#### 2.4 Function to normalize data"
   ]
  },
  {
   "cell_type": "code",
   "execution_count": 451,
   "metadata": {},
   "outputs": [],
   "source": [
    "def normalize(features):\n",
    "    #to speed up weight update process\n",
    "    mean = np.mean(features, axis = 0)\n",
    "    std = np.std(features, axis = 0)\n",
    "    features_norm = (features-mean)/std\n",
    "    return features_norm"
   ]
  },
  {
   "cell_type": "markdown",
   "metadata": {},
   "source": [
    "#### 2.5 Prediction Function"
   ]
  },
  {
   "cell_type": "code",
   "execution_count": 452,
   "metadata": {},
   "outputs": [],
   "source": [
    "def predict(features, parameters):\n",
    "    W = parameters['weights']\n",
    "    b = parameters['bias']\n",
    "    z = np.dot(features, W) + b\n",
    "    return sigmoid(z)"
   ]
  },
  {
   "cell_type": "markdown",
   "metadata": {},
   "source": [
    "#### 2.6 Loss Function"
   ]
  },
  {
   "cell_type": "code",
   "execution_count": 453,
   "metadata": {},
   "outputs": [],
   "source": [
    "def cost_function(y_pred, y_true):\n",
    "    #cross entropy loss function\n",
    "    return -(y_true * np.log(y_pred)).mean()"
   ]
  },
  {
   "cell_type": "markdown",
   "metadata": {},
   "source": [
    "#### 2.7 Function to update parameters"
   ]
  },
  {
   "cell_type": "code",
   "execution_count": 454,
   "metadata": {},
   "outputs": [],
   "source": [
    "def update_parameters(features, parameters, Y, alpha):\n",
    "    \n",
    "    m = len(Y)\n",
    "    \n",
    "    y_pred = predict(features, parameters)\n",
    "    \n",
    "    cost = cost_function(y_pred, Y)\n",
    "    \n",
    "    #gradient calculation\n",
    "    error = y_pred - Y \n",
    "    d_w = np.dot(features.T, error) / m\n",
    "    d_b = np.sum(error) / m\n",
    "\n",
    "    #update parameters\n",
    "    parameters['weights'] = parameters['weights'] - alpha * d_w\n",
    "    parameters['bias'] = parameters['bias'] - alpha * d_b\n",
    "    \n",
    "    return parameters, cost "
   ]
  },
  {
   "cell_type": "markdown",
   "metadata": {},
   "source": [
    "#### 2.8 Main Logistic Regression Function\n",
    "\n",
    "This function runs logistic regression in the following steps.  \n",
    "1. Initialize the parameters i.e. weights and bias.\n",
    "2. Normalize the input features.\n",
    "3. Updates parameters for the given number of epochs by calculating the gradient wrt to a particular parameter.\n",
    "4. If mode is sgd then weight is updated for each example otherwise run batch which updates parameters after each epoch."
   ]
  },
  {
   "cell_type": "code",
   "execution_count": 455,
   "metadata": {},
   "outputs": [],
   "source": [
    "def logistic_regression(features, Y , alpha, n_epoch, mode):\n",
    "    #This is the main logistic regression function\n",
    "    cost_hist = list()\n",
    "    parameters = initialize(features)\n",
    "    features_norm = normalize(features)\n",
    "    \n",
    "    for i in range(n_epoch):\n",
    "        if mode == 'sgd':\n",
    "            for i in range(len(Y)):\n",
    "                parameters, loss = update_parameters(features_norm[i].reshape(1,6), parameters, Y[i], alpha) \n",
    "                cost_hist.append(loss)    \n",
    "            \n",
    "        elif mode == 'batch':    \n",
    "            parameters, loss = update_parameters(features_norm, parameters, Y, alpha) \n",
    "            cost_hist.append(loss)\n",
    "        \n",
    "    return parameters, cost_hist"
   ]
  },
  {
   "cell_type": "markdown",
   "metadata": {},
   "source": [
    "### 3. Model Evaluation\n",
    "In this part i have defined functions to evaluate the fitted model. The function takes in learned parameters from the training set and then predicts based on test set featues. Then we crisp the outputs to 0 or 1 and compare them with the true output. Based on this comparison, we calculate model's precision, recall, and F1 score."
   ]
  },
  {
   "cell_type": "code",
   "execution_count": 456,
   "metadata": {},
   "outputs": [],
   "source": [
    "def helper(x):\n",
    "    if x > 0.5:\n",
    "        return 1\n",
    "    else:\n",
    "        return 0"
   ]
  },
  {
   "cell_type": "code",
   "execution_count": 457,
   "metadata": {},
   "outputs": [],
   "source": [
    "def classifierPredict(parameters,features):\n",
    "    #This function creates a crisp output of 1 and 0 from sigoid activations\n",
    "    features_norm = normalize(features)\n",
    "    predictions = predict(features_norm, parameters)\n",
    "    \n",
    "    classifier_pred = [helper(x) for x in predictions]\n",
    "    \n",
    "    return np.asarray(classifier_pred)"
   ]
  },
  {
   "cell_type": "code",
   "execution_count": 458,
   "metadata": {},
   "outputs": [],
   "source": [
    "def model_evaluation(parameters,X_test,Y_test):\n",
    "    \n",
    "    y_pred = classifierPredict(parameters,X_test)\n",
    "    y_true = Y_test\n",
    "    \n",
    "    true_pos = 0\n",
    "    true_neg = 0\n",
    "    false_pos = 0\n",
    "    false_neg = 0\n",
    "    \n",
    "    for i in range(len(Y_test)):\n",
    "        \n",
    "        #True positive\n",
    "        if y_pred[i] == 1 and y_true[i] == 1:\n",
    "            true_pos = true_pos + 1\n",
    "        #True negative\n",
    "        elif y_pred[i] == 0 and y_true[i] == 0:\n",
    "            true_neg = true_neg + 1\n",
    "        #False positive\n",
    "        elif y_pred[i] == 1 and y_true[i] == 0:\n",
    "            false_pos = false_pos + 1\n",
    "        #False negative\n",
    "        elif y_pred[i] == 0 and y_true[i] == 1:\n",
    "            false_neg = false_neg + 1\n",
    "\n",
    "    precision = true_pos / (true_pos+false_pos)\n",
    "    recall = true_pos / (true_pos+false_neg)\n",
    "    F1 = (2*precision*recall)/(precision+recall)\n",
    "    Accuracy = (true_pos+true_neg) / (true_pos+true_neg+false_pos+false_neg)\n",
    "    \n",
    "    print('              |     GOLD LABELS               ')\n",
    "    print('              |     pos   |  neg     ')\n",
    "    print('Classifier pos|   ',true_pos,' | ',false_pos, '         ')\n",
    "    print('Output     neg|   ',false_neg,'   | ',true_neg, '         ')\n",
    "    print('------------------------------')\n",
    "    \n",
    "    \n",
    "    \n",
    "    print('Model Accuracy : ', round(Accuracy*100,3),'%')\n",
    "    print('Precision : ', round(precision,3))\n",
    "    print('Recall    : ', round(recall,3))\n",
    "    print('F1 score  : ', round(F1,3))\n",
    "    \n",
    "    "
   ]
  },
  {
   "cell_type": "markdown",
   "metadata": {},
   "source": [
    "### 3. Model Fitting and Evaluation"
   ]
  },
  {
   "cell_type": "markdown",
   "metadata": {},
   "source": [
    "#### 3.1 Batch Gradient Descent"
   ]
  },
  {
   "cell_type": "code",
   "execution_count": 461,
   "metadata": {},
   "outputs": [
    {
     "name": "stdout",
     "output_type": "stream",
     "text": [
      "batch Gradient Descent\n"
     ]
    },
    {
     "data": {
      "image/png": "[encoded data removed]",
      "text/plain": [
       "<Figure size 432x288 with 1 Axes>"
      ]
     },
     "metadata": {
      "needs_background": "light"
     },
     "output_type": "display_data"
    },
    {
     "name": "stdout",
     "output_type": "stream",
     "text": [
      "              |     GOLD LABELS               \n",
      "              |     pos   |  neg     \n",
      "Classifier pos|    12381  |  27          \n",
      "Output     neg|    119    |  12473          \n",
      "------------------------------\n",
      "Model Accuracy :  99.416 %\n",
      "Precision :  0.998\n",
      "Recall    :  0.99\n",
      "F1 score  :  0.994\n"
     ]
    }
   ],
   "source": [
    "alpha = 0.01\n",
    "n_epoch = 1500\n",
    "mode = 'batch'\n",
    "\n",
    "parameters, cost_hist = logistic_regression(X_train, Y_train, alpha, n_epoch, mode)\n",
    "\n",
    "print(mode,'Gradient Descent')\n",
    "plt.plot(cost_hist)\n",
    "plt.title('Loss Plot')\n",
    "plt.ylabel('Cost')\n",
    "plt.xlabel('Epoch')\n",
    "plt.show()\n",
    "\n",
    "model_evaluation(parameters,X_test,Y_test)"
   ]
  },
  {
   "cell_type": "markdown",
   "metadata": {},
   "source": [
    "#### 3.2 Stochastic Gradient Descent"
   ]
  },
  {
   "cell_type": "code",
   "execution_count": 468,
   "metadata": {},
   "outputs": [
    {
     "name": "stdout",
     "output_type": "stream",
     "text": [
      "sgd Gradient Descent\n"
     ]
    },
    {
     "data": {
      "image/png": "[encoded data removed]",
      "text/plain": [
       "<Figure size 432x288 with 1 Axes>"
      ]
     },
     "metadata": {
      "needs_background": "light"
     },
     "output_type": "display_data"
    },
    {
     "name": "stdout",
     "output_type": "stream",
     "text": [
      "              |     GOLD LABELS               \n",
      "              |     pos   |  neg     \n",
      "Classifier pos|    12498  |  0          \n",
      "Output     neg|    2    |  12500          \n",
      "------------------------------\n",
      "Model Accuracy :  99.992 %\n",
      "Precision :  1.0\n",
      "Recall    :  1.0\n",
      "F1 score  :  1.0\n"
     ]
    }
   ],
   "source": [
    "alpha = 0.01\n",
    "n_epoch = 1\n",
    "mode = 'sgd'\n",
    "\n",
    "parameters, cost_hist = logistic_regression(X_train, Y_train, alpha, n_epoch, mode)\n",
    "\n",
    "print(mode,'Gradient Descent')\n",
    "plt.plot(cost_hist)\n",
    "plt.title('Loss Plot')\n",
    "plt.ylabel('Cost')\n",
    "plt.xlabel('Epoch')\n",
    "plt.show()\n",
    "\n",
    "model_evaluation(parameters,X_test,Y_test)"
   ]
  }
 ],
 "metadata": {
  "kernelspec": {
   "display_name": "Python 3",
   "language": "python",
   "name": "python3"
  },
  "language_info": {
   "codemirror_mode": {
    "name": "ipython",
    "version": 3
   },
   "file_extension": ".py",
   "mimetype": "text/x-python",
   "name": "python",
   "nbconvert_exporter": "python",
   "pygments_lexer": "ipython3",
   "version": "3.7.4"
  }
 },
 "nbformat": 4,
 "nbformat_minor": 2
}
