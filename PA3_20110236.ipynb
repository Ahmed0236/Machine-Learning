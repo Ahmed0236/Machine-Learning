{
 "cells": [
  {
   "cell_type": "markdown",
   "metadata": {},
   "source": [
    "## Machine Learning Spring 2020\n",
    "## PA3 : Multinomial Logistic Regression\n",
    "### Ahmed Anwar 20110236"
   ]
  },
  {
   "cell_type": "markdown",
   "metadata": {},
   "source": [
    "#### 0. Load Dependencies"
   ]
  },
  {
   "cell_type": "code",
   "execution_count": 213,
   "metadata": {
    "colab": {},
    "colab_type": "code",
    "id": "0GpyZysbo8gZ"
   },
   "outputs": [],
   "source": [
    "import pandas as pd\n",
    "import numpy as np\n",
    "import re\n",
    "import time\n",
    "from tqdm.notebook import tqdm\n",
    "import random\n",
    "from random import sample\n",
    "import matplotlib.pyplot as plt"
   ]
  },
  {
   "cell_type": "markdown",
   "metadata": {},
   "source": [
    "### 1. Data Preprocessing\n",
    "In this step we create the document term matrix.           "
   ]
  },
  {
   "cell_type": "code",
   "execution_count": 215,
   "metadata": {
    "colab": {},
    "colab_type": "code",
    "id": "IGx_grUOo8g4"
   },
   "outputs": [],
   "source": [
    "stopwords = ['a', 'an', 'and', 'are', 'as', 'at', 'be', 'by', 'do', 'for', 'from',\n",
    "             'has', 'he', 'have', 'had', 'in', 'is', 'it', 'its', 'of', 'on', 'that', 'the',\n",
    "             'to', 'was', 'where', 'will', 'with', 'she', 'i', 'me','you', 'about',\n",
    "             'my', 'our', 'these', 'them', 'were','your', 'who','b','c','d','e','f','g','h',\n",
    "            'j','k','l','m','n','o','p','q','r','s','t','y','u','v','w','x','z']"
   ]
  },
  {
   "cell_type": "code",
   "execution_count": 216,
   "metadata": {
    "colab": {},
    "colab_type": "code",
    "id": "95qOx4n0o8hG"
   },
   "outputs": [],
   "source": [
    "def clean_tweet(review, stopwords = stopwords):\n",
    "    review = review.lower().replace(',','').replace('.','').replace('<br','').replace('/><br','').replace('/>','').replace(')','').replace('(','')\n",
    "    review = review.replace((\"\\'\"),(\"\")).replace(\";\",\"\").replace('  ',' ').replace('?',' ').replace('\"', '').replace('!','').replace('  ', ' ')\n",
    "    review = \" \".join(filter(lambda x:x[0]!='@', review.split()))\n",
    "    review = re.sub(r'[0-9]+', '', review)\n",
    "    review = ' '.join([word for word in re.split(\"\\W+\", review) if word not in stopwords])\n",
    "    return review"
   ]
  },
  {
   "cell_type": "code",
   "execution_count": 217,
   "metadata": {
    "colab": {},
    "colab_type": "code",
    "id": "dHLvcL-Bo8io"
   },
   "outputs": [],
   "source": [
    "## convert labels to one-hots\n",
    "def one_hot(Y):\n",
    "    ys = np.zeros((len(Y),3))\n",
    "    for i in range(len(Y)):\n",
    "        label = Y[i]\n",
    "        if label == 'negative':\n",
    "            ys[i][0] = 1\n",
    "        elif label == 'neutral':\n",
    "            ys[i][1] = 1\n",
    "        elif label == 'positive':\n",
    "            ys[i][2] = 1\n",
    "    return ys"
   ]
  },
  {
   "cell_type": "code",
   "execution_count": 218,
   "metadata": {},
   "outputs": [],
   "source": [
    "def proportion(Set):\n",
    "    total = pd.read_csv('Tweets.csv')\n",
    "    total = total['airline_sentiment'].value_counts()\n",
    "    \n",
    "    subset = np.unique(Set, return_counts=True)[1]\n",
    "    print('% negatives : ', round(subset[0]/total[0],3))\n",
    "    print('% neutral   : ', round(subset[1]/total[1],3))\n",
    "    print('% positive  : ', round(subset[2]/total[2],3))"
   ]
  },
  {
   "cell_type": "markdown",
   "metadata": {},
   "source": [
    "#### 1.1 Main preprocessing function\n",
    "1. Read Tweets\n",
    "2. Create Vocabulary of Words\n",
    "3. Clean the documents and create Vocabulary of words from Documents.  \n",
    "4. Find frequency of each word in documents from the vocabulary.  \n",
    "5. Build document term matrix using frequency of words."
   ]
  },
  {
   "cell_type": "code",
   "execution_count": 240,
   "metadata": {},
   "outputs": [],
   "source": [
    "def Data_Preprocessing(path):\n",
    "    \n",
    "    #### 1. Read Tweets ####\n",
    "    tweets = pd.read_csv(path)\n",
    "    tweets = tweets.sort_values('airline_sentiment').reset_index().drop(['index'], axis=1)\n",
    "    counts = tweets['airline_sentiment'].value_counts()\n",
    "    #sort tweets so that order is negative, neutral, positive\n",
    "    \n",
    "    #### 2. Create Vocabulry of words ####\n",
    "    Vocabulary = []\n",
    "    print('Building Vocabulary')\n",
    "    for i in tqdm(range(len(tweets))):\n",
    "        temp  = clean_tweet(tweets.text[i]).split()\n",
    "        for j in temp:\n",
    "            if j not in Vocabulary:\n",
    "                Vocabulary.append(j)\n",
    "        time.sleep(0.001)\n",
    "    \n",
    "    #### 3. Create document term matrix ###\n",
    "    document_matrix = pd.DataFrame({'Vocabulary':Vocabulary})\n",
    "    \n",
    "    #iterate over documents\n",
    "    print('Building document term matrix')\n",
    "    for i in tqdm(range(len(tweets))): \n",
    "        document = clean_tweet(tweets.text[i])\n",
    "        Word_freq = [0] * len(Vocabulary)\n",
    "\n",
    "        #iterate over words in the document\n",
    "        words = document.split()\n",
    "        for j in range(len(words)):\n",
    "            if words[j] in Vocabulary:\n",
    "              #get index of which word was matched in the vocabulary\n",
    "              index = Vocabulary.index(words[j])\n",
    "              #increase the counter of that word in word_freq\n",
    "              Word_freq[index] = Word_freq[index] + 1\n",
    "\n",
    "        document_matrix['D'+str(i+1)] = Word_freq\n",
    "        time.sleep(0.001)\n",
    "            \n",
    "    document_matrix.to_csv('data.csv')\n",
    "    return document_matrix"
   ]
  },
  {
   "cell_type": "markdown",
   "metadata": {},
   "source": [
    "## 2. Train test Split  \n",
    "In this function we split the data set into training and test sets using stratified sampling.   \n",
    "This function also prints the proportion of each class in the train and test sets.  "
   ]
  },
  {
   "cell_type": "code",
   "execution_count": 310,
   "metadata": {},
   "outputs": [],
   "source": [
    "def train_test_split(dtm, split_size):\n",
    "    \n",
    "    data = dtm\n",
    "    tweets = pd.read_csv('Tweets.csv')\n",
    "    \n",
    "    train_size = split_size\n",
    "    grp = tweets.groupby('airline_sentiment').apply(lambda x: x.sample(int(train_size*len(x))))\n",
    "    grp = grp.drop(['airline_sentiment','text'], axis = 1).reset_index()\n",
    "    train = grp.rename(columns = {'level_1' : 'Document'})\n",
    "    \n",
    "    total_indices = list(range(0,len(tweets)))\n",
    "    train_indices = train['Document'].tolist()\n",
    "    test_indices = [x for x in total_indices if x not in train_indices]\n",
    "    \n",
    "    #create labels\n",
    "    Y_train = one_hot(np.array(train['airline_sentiment']))\n",
    "    Y_test = np.array(tweets.iloc[test_indices,:1].airline_sentiment)\n",
    "    \n",
    "    #create features\n",
    "    temp = data\n",
    "    temp = temp.drop(['Vocabulary'],axis=1)\n",
    "    temp_arr = np.array(temp).T\n",
    "\n",
    "    X_train = temp_arr[train_indices]\n",
    "    X_test = temp_arr[test_indices]\n",
    "    \n",
    "    #### Confirm the proportions of both splits ###\n",
    "    \n",
    "    #In train set each category should be 80%\n",
    "    print('Checking proportion of each class in train set')\n",
    "    proportion(np.array(train['airline_sentiment'])) \n",
    "    print('\\n')\n",
    "    #In test set each category should be 20%\n",
    "    print('Checking proportion of each class in test set')\n",
    "    proportion(Y_test)\n",
    "    \n",
    "    return X_train, X_test, Y_train, Y_test"
   ]
  },
  {
   "cell_type": "markdown",
   "metadata": {
    "colab_type": "text",
    "id": "Yg0Izjvmo8iw"
   },
   "source": [
    "## 3. Multinomial Logistic Regression "
   ]
  },
  {
   "cell_type": "code",
   "execution_count": 221,
   "metadata": {
    "colab": {},
    "colab_type": "code",
    "id": "2UoDi50Ho8ix"
   },
   "outputs": [],
   "source": [
    "def softmax(x):\n",
    "    m = len(x)\n",
    "    n = 3\n",
    "    sums = np.sum(np.exp(x), axis = 1)\n",
    "    exps = np.exp(x)\n",
    "    soft = np.zeros((m,n))\n",
    "    \n",
    "    for i in range(m):\n",
    "        soft[i] = exps[i]/sums[i]\n",
    "\n",
    "    return soft"
   ]
  },
  {
   "cell_type": "markdown",
   "metadata": {},
   "source": [
    "#### 3.1 Categorical Cross Entropy cost function"
   ]
  },
  {
   "cell_type": "code",
   "execution_count": 222,
   "metadata": {
    "colab": {},
    "colab_type": "code",
    "id": "XkzXzc7wo8i0"
   },
   "outputs": [],
   "source": [
    "def cost_function(y_pred, y_true):\n",
    "    #cross entropy loss function\n",
    "    return np.sum(-(y_true * np.log(y_pred)), axis =1).mean()"
   ]
  },
  {
   "cell_type": "markdown",
   "metadata": {},
   "source": [
    "#### 3.2 Constructor for weight initialization"
   ]
  },
  {
   "cell_type": "code",
   "execution_count": 223,
   "metadata": {
    "colab": {},
    "colab_type": "code",
    "id": "YAh8VUEtj2JJ"
   },
   "outputs": [],
   "source": [
    "def initialize(features, num_classes):\n",
    "    #This function initialies the weights randomly according to specific shape\n",
    "    d = features.shape[1]\n",
    "    k = num_classes\n",
    "\n",
    "    weights = np.random.normal(size = (d,k))\n",
    "    bias = np.zeros((1,num_classes))\n",
    "    parameters = {'weights':weights, 'bias':bias}\n",
    "    return parameters"
   ]
  },
  {
   "cell_type": "markdown",
   "metadata": {},
   "source": [
    "#### 3.3 Forward Pass of Model"
   ]
  },
  {
   "cell_type": "code",
   "execution_count": 224,
   "metadata": {
    "colab": {},
    "colab_type": "code",
    "id": "EY4u5A46o184"
   },
   "outputs": [],
   "source": [
    "def predict(features, parameters):\n",
    "    W = parameters['weights']\n",
    "    b = parameters['bias']\n",
    "    z = np.dot(features, W) + b\n",
    "    return softmax(z)"
   ]
  },
  {
   "cell_type": "markdown",
   "metadata": {},
   "source": [
    "#### 3.4 Gradient Descent function"
   ]
  },
  {
   "cell_type": "code",
   "execution_count": 225,
   "metadata": {
    "colab": {},
    "colab_type": "code",
    "id": "dihQmgHGo8-n"
   },
   "outputs": [],
   "source": [
    "def update_parameters(features, parameters, Y, alpha):\n",
    "    \n",
    "    m = len(Y)\n",
    "    y_pred = predict(features, parameters)\n",
    "    cost = cost_function(y_pred, Y)\n",
    "    \n",
    "    #gradient calculation\n",
    "    error = y_pred - Y \n",
    "    d_w = np.dot(features.T, error) / m\n",
    "    d_b = np.sum(error) / m\n",
    "\n",
    "    #update parameters\n",
    "    parameters['weights'] = parameters['weights'] - alpha * d_w\n",
    "    parameters['bias'] = parameters['bias'] - alpha * d_b\n",
    "    \n",
    "    return parameters, cost "
   ]
  },
  {
   "cell_type": "markdown",
   "metadata": {},
   "source": [
    "#### 3.5 Minibatch generator"
   ]
  },
  {
   "cell_type": "markdown",
   "metadata": {},
   "source": [
    "This creates a generator for yielding mini batches of features and labels. We call this function by using \"next\" command in our MLR function. "
   ]
  },
  {
   "cell_type": "code",
   "execution_count": 227,
   "metadata": {},
   "outputs": [],
   "source": [
    "def batch_generator(X,Y,batch_size):\n",
    "    indices = np.arange(0, len(X), batch_size)\n",
    "    if len(X) % batch_size != 0:\n",
    "        indices = indices[:-1]\n",
    "    \n",
    "    while True:\n",
    "        np.random.shuffle(indices)\n",
    "        for index in indices:\n",
    "            batch_x = X[index : index + batch_size]\n",
    "            batch_y = Y[index : index + batch_size]\n",
    "            yield batch_x, batch_y"
   ]
  },
  {
   "cell_type": "markdown",
   "metadata": {
    "colab_type": "text",
    "id": "8FVvINObpIGG"
   },
   "source": [
    "#### 3.6 Main logistic regression Function"
   ]
  },
  {
   "cell_type": "code",
   "execution_count": 296,
   "metadata": {
    "colab": {},
    "colab_type": "code",
    "id": "9nB8hob1o_0l"
   },
   "outputs": [],
   "source": [
    "def MLR(features, Y , alpha, n_epoch, minibatch_size):\n",
    "    \n",
    "    cost_hist = list()\n",
    "    parameters = initialize(features,3)\n",
    "\n",
    "    for epoch in tqdm(range(n_epoch)):\n",
    "        \n",
    "        batch_loss = []\n",
    "        x,y = next(batch_generator(features,Y, minibatch_size))\n",
    "        \n",
    "        for i in range(minibatch_size):\n",
    "            parameters, loss = update_parameters(x, parameters, y, alpha) \n",
    "            batch_loss.append(loss) \n",
    "            \n",
    "        cost_hist.append(np.mean(batch_loss))\n",
    "        \n",
    "        if np.mean(batch_loss) < 0.1: #<---threshold for minimum loss\n",
    "            return parameters, cost_hist\n",
    "        \n",
    "        time.sleep(0.001)\n",
    "              \n",
    "    return parameters, cost_hist"
   ]
  },
  {
   "cell_type": "code",
   "execution_count": 229,
   "metadata": {
    "colab": {
     "base_uri": "https://localhost:8080/",
     "height": 295
    },
    "colab_type": "code",
    "executionInfo": {
     "elapsed": 175056,
     "status": "ok",
     "timestamp": 1585617045378,
     "user": {
      "displayName": "Ahmed Anwar",
      "photoUrl": "https://lh3.googleusercontent.com/a-/AOh14Girm-QBiEwzzTkRz4E1DV7K1x-hZIrWnILzfELJhA=s64",
      "userId": "17907040720984095362"
     },
     "user_tz": -300
    },
    "id": "riggWs1Ax6JT",
    "outputId": "3ce95e9b-bbea-4a36-a3fc-e56908302f16"
   },
   "outputs": [],
   "source": [
    "def loss_plot(cost_hist):\n",
    "    plt.plot(cost_hist)\n",
    "    plt.title('Loss Plot')\n",
    "    plt.ylabel('Cost')\n",
    "    plt.xlabel('Epoch')\n",
    "    plt.show()\n",
    "    return "
   ]
  },
  {
   "cell_type": "markdown",
   "metadata": {
    "colab_type": "text",
    "id": "tGEOUU4ixqkG"
   },
   "source": [
    "## 4. Model Evaluation"
   ]
  },
  {
   "cell_type": "markdown",
   "metadata": {},
   "source": [
    "#### 4.1 Classifation function for model outputs"
   ]
  },
  {
   "cell_type": "code",
   "execution_count": 230,
   "metadata": {
    "colab": {},
    "colab_type": "code",
    "id": "bJGUZd8yxsw4"
   },
   "outputs": [],
   "source": [
    "def classifierPredict(parameters,features):\n",
    "    #This function creates a crisp output of 1 and 0 from sigoid activations\n",
    "    #features_norm = normalize(features)\n",
    "    predictions = predict(features, parameters)\n",
    "    max_index = np.argmax(predictions, axis = 1)\n",
    "\n",
    "    ps = []\n",
    "    for i in max_index:\n",
    "        if i == 0:\n",
    "            ps.append('negative')\n",
    "        elif i == 1:\n",
    "            ps.append('neutral')\n",
    "        else:\n",
    "            ps.append('positive')  \n",
    "    \n",
    "    return np.asarray(ps)"
   ]
  },
  {
   "cell_type": "markdown",
   "metadata": {},
   "source": [
    "#### 4.2 Micro averaging function  "
   ]
  },
  {
   "cell_type": "code",
   "execution_count": 231,
   "metadata": {
    "colab": {},
    "colab_type": "code",
    "id": "a0hL1qSbJRPF"
   },
   "outputs": [],
   "source": [
    "def micro_avg(Eval):\n",
    "    TP,TN,FP,FN = 0,0,0,0\n",
    "    for i in range(len(Eval)):\n",
    "        FN = FN + Eval[i][1][0]\n",
    "        FP = FP + Eval[i][1][1]\n",
    "        TN = TN + Eval[i][1][2]\n",
    "        TP = TP + Eval[i][1][3]\n",
    "\n",
    "    precision = TP/(TP+FP)\n",
    "    recall =    TP/(TP+FN)\n",
    "    F1 = (2*precision*recall)/(precision+recall)\n",
    "    \n",
    "    return precision,recall,F1"
   ]
  },
  {
   "cell_type": "markdown",
   "metadata": {},
   "source": [
    "#### 4.3 Macro averaging function"
   ]
  },
  {
   "cell_type": "code",
   "execution_count": 232,
   "metadata": {
    "colab": {},
    "colab_type": "code",
    "id": "t9au9CA6RmEN"
   },
   "outputs": [],
   "source": [
    "def macro_avg(Eval):\n",
    "    Precisions = []\n",
    "    Recalls = []\n",
    "    F1s = []\n",
    "    \n",
    "    for i in range(3):\n",
    "        FN = Eval[i][1][0]\n",
    "        FP = Eval[i][1][1]\n",
    "        TN = Eval[i][1][2]\n",
    "        TP = Eval[i][1][3]\n",
    "\n",
    "        precision = TP/(TP+FP)\n",
    "        recall =    TP/(TP+FN)\n",
    "        F1 = (2*precision*recall)/(precision+recall)\n",
    "\n",
    "        Precisions.append(precision)\n",
    "        Recalls.append(recall)\n",
    "        F1s.append(F1)\n",
    "\n",
    "    macro_precision = np.mean(Precisions)\n",
    "    macro_recall = np.mean(Recalls)\n",
    "    macro_F1 = np.mean(F1s)\n",
    "\n",
    "    return macro_precision, macro_recall, macro_F1"
   ]
  },
  {
   "cell_type": "markdown",
   "metadata": {},
   "source": [
    "I have verified evaluation metrics i.e. precision, recall and F1 score by using sk-learn library"
   ]
  },
  {
   "cell_type": "markdown",
   "metadata": {},
   "source": [
    "#### 4.4 Compute Confusion Matrix"
   ]
  },
  {
   "cell_type": "code",
   "execution_count": 233,
   "metadata": {},
   "outputs": [],
   "source": [
    "def confusion_matrix(y_pred,y_true):\n",
    "    cmat = np.zeros((3,3), dtype = int)\n",
    "    cmat[0][0] = ((y_pred == 'negative') & (y_true == 'negative')).sum()\n",
    "    cmat[0][1] = ((y_pred == 'negative') & (y_true == 'neutral')).sum()\n",
    "    cmat[0][2] = ((y_pred == 'negative') & (y_true == 'positive')).sum()\n",
    "\n",
    "    cmat[1][0] = ((y_pred == 'neutral') & (y_true == 'negative')).sum()\n",
    "    cmat[1][1] = ((y_pred == 'neutral') & (y_true == 'neutral')).sum()\n",
    "    cmat[1][2] = ((y_pred == 'neutral') & (y_true == 'positive')).sum()\n",
    "\n",
    "    cmat[2][0] = ((y_pred == 'positive') & (y_true == 'negative')).sum()\n",
    "    cmat[2][1] = ((y_pred == 'positive') & (y_true == 'neutral')).sum()\n",
    "    cmat[2][2] = ((y_pred == 'positive') & (y_true == 'positive')).sum()\n",
    "    \n",
    "    print('------True Labels----')\n",
    "    print('     neg', ' neu', ' pos')\n",
    "    print('neg', cmat[0])\n",
    "    print('neu', cmat[1])\n",
    "    print('pos', cmat[2])\n",
    "    \n",
    "    return cmat"
   ]
  },
  {
   "cell_type": "markdown",
   "metadata": {},
   "source": [
    "#### 4.5 Main evaluation function "
   ]
  },
  {
   "cell_type": "code",
   "execution_count": 234,
   "metadata": {
    "colab": {},
    "colab_type": "code",
    "id": "6PPRuApa56T-"
   },
   "outputs": [],
   "source": [
    "def model_evaluation(parameters,X_test,Y_test, mode):\n",
    "    # This function prints the evaluation metrics \n",
    "    y_pred = classifierPredict(parameters,X_test)\n",
    "    y_true = Y_test\n",
    "\n",
    "    labels = ['negative','neutral','positive']\n",
    "    Eval = []\n",
    "    for label in labels:\n",
    "        temp = []\n",
    "        for i in range(len(y_pred)):\n",
    "            if y_pred[i] == label:\n",
    "                  output = 'P'\n",
    "            else:\n",
    "                  output = 'N'\n",
    "        \n",
    "            #classifier predicted positive\n",
    "            if output == 'P':\n",
    "                if y_true[i] == label:\n",
    "                    output = 'T'+ output\n",
    "                else:\n",
    "                    output = 'F' + output\n",
    "        \n",
    "            #classifier prediced negative\n",
    "            if output == 'N':\n",
    "                if y_true[i] == label:\n",
    "                    output = 'F'+ output\n",
    "                else:\n",
    "                    output = 'T' + output\n",
    "        \n",
    "            temp.append(output)\n",
    "        Eval.append(np.unique(np.array(temp), return_counts = True))\n",
    "    \n",
    "    cmat = confusion_matrix(y_pred,y_true)\n",
    "    \n",
    "    if mode == 'micro':\n",
    "        precision, recall, F1 = micro_avg(Eval)\n",
    "    else:\n",
    "        precision, recall, F1 = macro_avg(Eval)\n",
    "        \n",
    "    print('\\n')\n",
    "    print('Model Accuracy : ', round(100*np.sum(y_pred==y_true) / len(y_pred),2), '%')   \n",
    "    print('Precision : ', round(precision,3))\n",
    "    print('Recall    : ', round(recall,3))\n",
    "    print('F1 score  : ', round(F1,3))"
   ]
  },
  {
   "cell_type": "markdown",
   "metadata": {},
   "source": [
    "## End Product"
   ]
  },
  {
   "cell_type": "markdown",
   "metadata": {},
   "source": [
    "In the first step we create a document term matrix by parsing and cleaning all the tweets. We build a vocabualry of words after removing stopwords and then calculate the frequency of each word in all documents. "
   ]
  },
  {
   "cell_type": "code",
   "execution_count": 313,
   "metadata": {
    "colab": {},
    "colab_type": "code",
    "id": "6V9ZHBPDxhWS"
   },
   "outputs": [
    {
     "name": "stdout",
     "output_type": "stream",
     "text": [
      "Building Vocabulary\n"
     ]
    },
    {
     "data": {
      "application/vnd.jupyter.widget-view+json": {
       "model_id": "338175ab7d4d4befa423e10256ecc1d6",
       "version_major": 2,
       "version_minor": 0
      },
      "text/plain": [
       "HBox(children=(FloatProgress(value=0.0, max=14640.0), HTML(value='')))"
      ]
     },
     "metadata": {},
     "output_type": "display_data"
    },
    {
     "name": "stdout",
     "output_type": "stream",
     "text": [
      "\n",
      "Building document term matrix\n"
     ]
    },
    {
     "data": {
      "application/vnd.jupyter.widget-view+json": {
       "model_id": "70a7f0a646844459a464c214a7e48457",
       "version_major": 2,
       "version_minor": 0
      },
      "text/plain": [
       "HBox(children=(FloatProgress(value=0.0, max=14640.0), HTML(value='')))"
      ]
     },
     "metadata": {},
     "output_type": "display_data"
    },
    {
     "name": "stdout",
     "output_type": "stream",
     "text": [
      "\n"
     ]
    }
   ],
   "source": [
    "#Step 1: Create document term matrix\n",
    "dtm = Data_Preprocessing('Tweets.csv')"
   ]
  },
  {
   "cell_type": "markdown",
   "metadata": {},
   "source": [
    "This function is used to split the data set using stratified sampling"
   ]
  },
  {
   "cell_type": "code",
   "execution_count": null,
   "metadata": {},
   "outputs": [],
   "source": [
    "#Step 2: Split Data using stratified sampling\n",
    "X_train, X_test, Y_train, Y_test = train_test_split(dtm, 0.80)"
   ]
  },
  {
   "cell_type": "markdown",
   "metadata": {},
   "source": [
    "We had used 80-20 split of data set. Now after the split, the training set contains 80% of total labels of each class and test set contains 20% of total labels of each class.  "
   ]
  },
  {
   "cell_type": "code",
   "execution_count": 308,
   "metadata": {},
   "outputs": [
    {
     "data": {
      "application/vnd.jupyter.widget-view+json": {
       "model_id": "c86ffe0de9fa445098d1255cc3d23c45",
       "version_major": 2,
       "version_minor": 0
      },
      "text/plain": [
       "HBox(children=(FloatProgress(value=0.0), HTML(value='')))"
      ]
     },
     "metadata": {},
     "output_type": "display_data"
    },
    {
     "name": "stdout",
     "output_type": "stream",
     "text": [
      "\n"
     ]
    },
    {
     "data": {
      "image/png": "[encoded data removed]",
      "text/plain": [
       "<Figure size 432x288 with 1 Axes>"
      ]
     },
     "metadata": {
      "needs_background": "light"
     },
     "output_type": "display_data"
    }
   ],
   "source": [
    "#Hyperparameters\n",
    "alpha = 0.3\n",
    "n_epoch = 100\n",
    "minibatch_size = 32\n",
    "random.seed(28197536)\n",
    "\n",
    "#Step 3: Fit the model\n",
    "parameters, cost_hist = MLR(X_train, Y_train, alpha, n_epoch, minibatch_size)\n",
    "loss_plot(cost_hist)"
   ]
  },
  {
   "cell_type": "markdown",
   "metadata": {},
   "source": [
    "The model stopped training when the desired minimum loss was achieved by the model"
   ]
  },
  {
   "cell_type": "code",
   "execution_count": 309,
   "metadata": {},
   "outputs": [
    {
     "name": "stdout",
     "output_type": "stream",
     "text": [
      "Minimum loss : 0.05860408207404266\n"
     ]
    }
   ],
   "source": [
    "print('Minimum loss :',min(cost_hist))"
   ]
  },
  {
   "cell_type": "code",
   "execution_count": 311,
   "metadata": {},
   "outputs": [
    {
     "name": "stdout",
     "output_type": "stream",
     "text": [
      "------True Labels----\n",
      "     neg  neu  pos\n",
      "neg [1618  549  428]\n",
      "neu [92 30 17]\n",
      "pos [126  41  28]\n",
      "\n",
      "\n",
      "Model Accuracy :  57.22 %\n",
      "Precision :  0.572\n",
      "Recall    :  0.572\n",
      "F1 score  :  0.572\n"
     ]
    }
   ],
   "source": [
    "#Step 4: Model Evaluation\n",
    "model_evaluation(parameters,X_test,Y_test, 'micro')"
   ]
  },
  {
   "cell_type": "code",
   "execution_count": 312,
   "metadata": {},
   "outputs": [
    {
     "name": "stdout",
     "output_type": "stream",
     "text": [
      "------True Labels----\n",
      "     neg  neu  pos\n",
      "neg [1618  549  428]\n",
      "neu [92 30 17]\n",
      "pos [126  41  28]\n",
      "\n",
      "\n",
      "Model Accuracy :  57.22 %\n",
      "Precision :  0.328\n",
      "Recall    :  0.33\n",
      "F1 score  :  0.298\n"
     ]
    }
   ],
   "source": [
    "model_evaluation(parameters,X_test,Y_test, 'macro')"
   ]
  },
  {
   "cell_type": "markdown",
   "metadata": {},
   "source": [
    "Micro averaging score is better than macro averaging because the distribution of each class is different "
   ]
  }
 ],
 "metadata": {
  "accelerator": "GPU",
  "colab": {
   "collapsed_sections": [],
   "machine_shape": "hm",
   "name": "PA3.ipynb",
   "provenance": []
  },
  "kernelspec": {
   "display_name": "Python 3",
   "language": "python",
   "name": "python3"
  },
  "language_info": {
   "codemirror_mode": {
    "name": "ipython",
    "version": 3
   },
   "file_extension": ".py",
   "mimetype": "text/x-python",
   "name": "python",
   "nbconvert_exporter": "python",
   "pygments_lexer": "ipython3",
   "version": "3.7.5"
  }
 },
 "nbformat": 4,
 "nbformat_minor": 1
}
